{
 "cells": [
  {
   "cell_type": "code",
   "execution_count": null,
   "id": "652daa4d-4e53-4f76-ad4b-2a2b8a1ae4fa",
   "metadata": {
    "tags": []
   },
   "outputs": [],
   "source": [
    "%pip install mlflow==1.30\n",
    "%pip install boto3\n",
    "%pip install cloudpickle==2.2.1"
   ]
  },
  {
   "cell_type": "code",
   "execution_count": null,
   "id": "e0ab6196-072d-4fea-933b-4de845524b3b",
   "metadata": {},
   "outputs": [],
   "source": [
    "%pip install psycopg2-binary"
   ]
  },
  {
   "cell_type": "code",
   "execution_count": null,
   "id": "f0ba4581-2c70-4ab3-9afa-e7d7b05591d7",
   "metadata": {
    "tags": []
   },
   "outputs": [],
   "source": [
    "%pip install feast[cassandra]==0.26"
   ]
  },
  {
   "cell_type": "code",
   "execution_count": 1,
   "id": "e4b6fed6-4574-436e-8fe5-72a5ddb06cb4",
   "metadata": {},
   "outputs": [],
   "source": [
    "import mlflow"
   ]
  },
  {
   "cell_type": "code",
   "execution_count": 2,
   "id": "14ea20ed-04d3-4745-9c96-133d021ae0e6",
   "metadata": {},
   "outputs": [
    {
     "data": {
      "text/plain": [
       "'1.30.0'"
      ]
     },
     "execution_count": 2,
     "metadata": {},
     "output_type": "execute_result"
    }
   ],
   "source": [
    "mlflow.__version__"
   ]
  },
  {
   "cell_type": "code",
   "execution_count": 3,
   "id": "4a1813a8-2bef-4dc0-a52a-e2ebd7a72509",
   "metadata": {},
   "outputs": [
    {
     "name": "stderr",
     "output_type": "stream",
     "text": [
      "/opt/conda/lib/python3.8/site-packages/dask/dataframe/backends.py:187: FutureWarning: pandas.Int64Index is deprecated and will be removed from pandas in a future version. Use pandas.Index with the appropriate dtype instead.\n",
      "  _numeric_index_types = (pd.Int64Index, pd.Float64Index, pd.UInt64Index)\n",
      "/opt/conda/lib/python3.8/site-packages/dask/dataframe/backends.py:187: FutureWarning: pandas.Float64Index is deprecated and will be removed from pandas in a future version. Use pandas.Index with the appropriate dtype instead.\n",
      "  _numeric_index_types = (pd.Int64Index, pd.Float64Index, pd.UInt64Index)\n",
      "/opt/conda/lib/python3.8/site-packages/dask/dataframe/backends.py:187: FutureWarning: pandas.UInt64Index is deprecated and will be removed from pandas in a future version. Use pandas.Index with the appropriate dtype instead.\n",
      "  _numeric_index_types = (pd.Int64Index, pd.Float64Index, pd.UInt64Index)\n"
     ]
    }
   ],
   "source": [
    "from feast import FeatureStore\n",
    "store = FeatureStore()"
   ]
  },
  {
   "cell_type": "code",
   "execution_count": 4,
   "id": "2adbe7d8-c7d2-4ff0-ae86-0970e28375c4",
   "metadata": {},
   "outputs": [
    {
     "name": "stderr",
     "output_type": "stream",
     "text": [
      "/opt/conda/lib/python3.8/site-packages/ipykernel/ipkernel.py:283: DeprecationWarning: `should_run_async` will not call `transform_cell` automatically in the future. Please pass the result to `transformed_cell` argument and any exception that happen during thetransform in `preprocessing_exc_tuple` in IPython 7.17 and above.\n",
      "  and should_run_async(code)\n"
     ]
    },
    {
     "name": "stdout",
     "output_type": "stream",
     "text": [
      "Materializing \u001b[1m\u001b[32m1\u001b[0m feature views from \u001b[1m\u001b[32m2021-01-21 08:35:25+00:00\u001b[0m to \u001b[1m\u001b[32m2023-10-18 08:25:25+00:00\u001b[0m into the \u001b[1m\u001b[32mcassandra\u001b[0m online store.\n",
      "\n",
      "\u001b[1m\u001b[32mcredit_history\u001b[0m:\n"
     ]
    },
    {
     "ename": "FeastModuleImportError",
     "evalue": "Could not import module 'feast.infra.materialization.local_engine' while attempting to load class 'LocalMaterializationEngine'",
     "output_type": "error",
     "traceback": [
      "\u001b[0;31m---------------------------------------------------------------------------\u001b[0m",
      "\u001b[0;31mTypeError\u001b[0m                                 Traceback (most recent call last)",
      "\u001b[0;32m/opt/conda/lib/python3.8/site-packages/feast/importer.py\u001b[0m in \u001b[0;36mimport_class\u001b[0;34m(module_name, class_name, class_type)\u001b[0m\n\u001b[1;32m     25\u001b[0m     \u001b[0;32mtry\u001b[0m\u001b[0;34m:\u001b[0m\u001b[0;34m\u001b[0m\u001b[0;34m\u001b[0m\u001b[0m\n\u001b[0;32m---> 26\u001b[0;31m         \u001b[0mmodule\u001b[0m \u001b[0;34m=\u001b[0m \u001b[0mimportlib\u001b[0m\u001b[0;34m.\u001b[0m\u001b[0mimport_module\u001b[0m\u001b[0;34m(\u001b[0m\u001b[0mmodule_name\u001b[0m\u001b[0;34m)\u001b[0m\u001b[0;34m\u001b[0m\u001b[0;34m\u001b[0m\u001b[0m\n\u001b[0m\u001b[1;32m     27\u001b[0m     \u001b[0;32mexcept\u001b[0m \u001b[0mException\u001b[0m \u001b[0;32mas\u001b[0m \u001b[0me\u001b[0m\u001b[0;34m:\u001b[0m\u001b[0;34m\u001b[0m\u001b[0;34m\u001b[0m\u001b[0m\n",
      "\u001b[0;32m/opt/conda/lib/python3.8/importlib/__init__.py\u001b[0m in \u001b[0;36mimport_module\u001b[0;34m(name, package)\u001b[0m\n\u001b[1;32m    126\u001b[0m             \u001b[0mlevel\u001b[0m \u001b[0;34m+=\u001b[0m \u001b[0;36m1\u001b[0m\u001b[0;34m\u001b[0m\u001b[0;34m\u001b[0m\u001b[0m\n\u001b[0;32m--> 127\u001b[0;31m     \u001b[0;32mreturn\u001b[0m \u001b[0m_bootstrap\u001b[0m\u001b[0;34m.\u001b[0m\u001b[0m_gcd_import\u001b[0m\u001b[0;34m(\u001b[0m\u001b[0mname\u001b[0m\u001b[0;34m[\u001b[0m\u001b[0mlevel\u001b[0m\u001b[0;34m:\u001b[0m\u001b[0;34m]\u001b[0m\u001b[0;34m,\u001b[0m \u001b[0mpackage\u001b[0m\u001b[0;34m,\u001b[0m \u001b[0mlevel\u001b[0m\u001b[0;34m)\u001b[0m\u001b[0;34m\u001b[0m\u001b[0;34m\u001b[0m\u001b[0m\n\u001b[0m\u001b[1;32m    128\u001b[0m \u001b[0;34m\u001b[0m\u001b[0m\n",
      "\u001b[0;32m/opt/conda/lib/python3.8/importlib/_bootstrap.py\u001b[0m in \u001b[0;36m_gcd_import\u001b[0;34m(name, package, level)\u001b[0m\n",
      "\u001b[0;32m/opt/conda/lib/python3.8/importlib/_bootstrap.py\u001b[0m in \u001b[0;36m_find_and_load\u001b[0;34m(name, import_)\u001b[0m\n",
      "\u001b[0;32m/opt/conda/lib/python3.8/importlib/_bootstrap.py\u001b[0m in \u001b[0;36m_find_and_load_unlocked\u001b[0;34m(name, import_)\u001b[0m\n",
      "\u001b[0;32m/opt/conda/lib/python3.8/importlib/_bootstrap.py\u001b[0m in \u001b[0;36m_load_unlocked\u001b[0;34m(spec)\u001b[0m\n",
      "\u001b[0;32m/opt/conda/lib/python3.8/importlib/_bootstrap_external.py\u001b[0m in \u001b[0;36mexec_module\u001b[0;34m(self, module)\u001b[0m\n",
      "\u001b[0;32m/opt/conda/lib/python3.8/importlib/_bootstrap.py\u001b[0m in \u001b[0;36m_call_with_frames_removed\u001b[0;34m(f, *args, **kwds)\u001b[0m\n",
      "\u001b[0;32m/opt/conda/lib/python3.8/site-packages/feast/infra/materialization/local_engine.py\u001b[0m in \u001b[0;36m<module>\u001b[0;34m\u001b[0m\n\u001b[1;32m     30\u001b[0m \u001b[0;34m\u001b[0m\u001b[0m\n\u001b[0;32m---> 31\u001b[0;31m \u001b[0;32mclass\u001b[0m \u001b[0mLocalMaterializationEngineConfig\u001b[0m\u001b[0;34m(\u001b[0m\u001b[0mFeastConfigBaseModel\u001b[0m\u001b[0;34m)\u001b[0m\u001b[0;34m:\u001b[0m\u001b[0;34m\u001b[0m\u001b[0;34m\u001b[0m\u001b[0m\n\u001b[0m\u001b[1;32m     32\u001b[0m     \u001b[0;34m\"\"\"Batch Materialization Engine config for local in-process engine\"\"\"\u001b[0m\u001b[0;34m\u001b[0m\u001b[0;34m\u001b[0m\u001b[0m\n",
      "\u001b[0;32m/opt/conda/lib/python3.8/site-packages/pydantic/main.cpython-38-x86_64-linux-gnu.so\u001b[0m in \u001b[0;36mpydantic.main.ModelMetaclass.__new__\u001b[0;34m()\u001b[0m\n",
      "\u001b[0;32m/opt/conda/lib/python3.8/site-packages/pydantic/fields.cpython-38-x86_64-linux-gnu.so\u001b[0m in \u001b[0;36mpydantic.fields.ModelField.infer\u001b[0;34m()\u001b[0m\n",
      "\u001b[0;32m/opt/conda/lib/python3.8/site-packages/pydantic/fields.cpython-38-x86_64-linux-gnu.so\u001b[0m in \u001b[0;36mpydantic.fields.ModelField.__init__\u001b[0;34m()\u001b[0m\n",
      "\u001b[0;32m/opt/conda/lib/python3.8/site-packages/pydantic/fields.cpython-38-x86_64-linux-gnu.so\u001b[0m in \u001b[0;36mpydantic.fields.ModelField.prepare\u001b[0;34m()\u001b[0m\n",
      "\u001b[0;32m/opt/conda/lib/python3.8/site-packages/pydantic/fields.cpython-38-x86_64-linux-gnu.so\u001b[0m in \u001b[0;36mpydantic.fields.ModelField._type_analysis\u001b[0;34m()\u001b[0m\n",
      "\u001b[0;32m/opt/conda/lib/python3.8/typing.py\u001b[0m in \u001b[0;36m__subclasscheck__\u001b[0;34m(self, cls)\u001b[0m\n\u001b[1;32m    773\u001b[0m             \u001b[0;32mif\u001b[0m \u001b[0;32mnot\u001b[0m \u001b[0misinstance\u001b[0m\u001b[0;34m(\u001b[0m\u001b[0mcls\u001b[0m\u001b[0;34m,\u001b[0m \u001b[0m_GenericAlias\u001b[0m\u001b[0;34m)\u001b[0m\u001b[0;34m:\u001b[0m\u001b[0;34m\u001b[0m\u001b[0;34m\u001b[0m\u001b[0m\n\u001b[0;32m--> 774\u001b[0;31m                 \u001b[0;32mreturn\u001b[0m \u001b[0missubclass\u001b[0m\u001b[0;34m(\u001b[0m\u001b[0mcls\u001b[0m\u001b[0;34m,\u001b[0m \u001b[0mself\u001b[0m\u001b[0;34m.\u001b[0m\u001b[0m__origin__\u001b[0m\u001b[0;34m)\u001b[0m\u001b[0;34m\u001b[0m\u001b[0;34m\u001b[0m\u001b[0m\n\u001b[0m\u001b[1;32m    775\u001b[0m             \u001b[0;32mif\u001b[0m \u001b[0mcls\u001b[0m\u001b[0;34m.\u001b[0m\u001b[0m_special\u001b[0m\u001b[0;34m:\u001b[0m\u001b[0;34m\u001b[0m\u001b[0;34m\u001b[0m\u001b[0m\n",
      "\u001b[0;31mTypeError\u001b[0m: issubclass() arg 1 must be a class",
      "\nThe above exception was the direct cause of the following exception:\n",
      "\u001b[0;31mFeastModuleImportError\u001b[0m                    Traceback (most recent call last)",
      "\u001b[0;32m<ipython-input-4-843d5f85d9af>\u001b[0m in \u001b[0;36m<module>\u001b[0;34m\u001b[0m\n\u001b[1;32m      1\u001b[0m \u001b[0;32mfrom\u001b[0m \u001b[0mdatetime\u001b[0m \u001b[0;32mimport\u001b[0m \u001b[0mdatetime\u001b[0m\u001b[0;34m,\u001b[0m \u001b[0mtimedelta\u001b[0m\u001b[0;34m\u001b[0m\u001b[0;34m\u001b[0m\u001b[0m\n\u001b[0;32m----> 2\u001b[0;31m store.materialize(\n\u001b[0m\u001b[1;32m      3\u001b[0m     \u001b[0mfeature_views\u001b[0m\u001b[0;34m=\u001b[0m\u001b[0;34m[\u001b[0m\u001b[0;34m\"credit_history\"\u001b[0m\u001b[0;34m]\u001b[0m\u001b[0;34m,\u001b[0m\u001b[0;34m\u001b[0m\u001b[0;34m\u001b[0m\u001b[0m\n\u001b[1;32m      4\u001b[0m     \u001b[0mstart_date\u001b[0m\u001b[0;34m=\u001b[0m\u001b[0mdatetime\u001b[0m\u001b[0;34m.\u001b[0m\u001b[0mutcnow\u001b[0m\u001b[0;34m(\u001b[0m\u001b[0;34m)\u001b[0m \u001b[0;34m-\u001b[0m \u001b[0mtimedelta\u001b[0m\u001b[0;34m(\u001b[0m\u001b[0mdays\u001b[0m\u001b[0;34m=\u001b[0m\u001b[0;36m1000\u001b[0m\u001b[0;34m)\u001b[0m\u001b[0;34m,\u001b[0m \u001b[0mend_date\u001b[0m\u001b[0;34m=\u001b[0m\u001b[0mdatetime\u001b[0m\u001b[0;34m.\u001b[0m\u001b[0mutcnow\u001b[0m\u001b[0;34m(\u001b[0m\u001b[0;34m)\u001b[0m \u001b[0;34m-\u001b[0m \u001b[0mtimedelta\u001b[0m\u001b[0;34m(\u001b[0m\u001b[0mminutes\u001b[0m\u001b[0;34m=\u001b[0m\u001b[0;36m10\u001b[0m\u001b[0;34m)\u001b[0m\u001b[0;34m\u001b[0m\u001b[0;34m\u001b[0m\u001b[0m\n\u001b[1;32m      5\u001b[0m )\n",
      "\u001b[0;32m/opt/conda/lib/python3.8/site-packages/feast/usage.py\u001b[0m in \u001b[0;36mwrapper\u001b[0;34m(*args, **kwargs)\u001b[0m\n\u001b[1;32m    292\u001b[0m \u001b[0;34m\u001b[0m\u001b[0m\n\u001b[1;32m    293\u001b[0m                 \u001b[0;32mif\u001b[0m \u001b[0mtraceback\u001b[0m\u001b[0;34m:\u001b[0m\u001b[0;34m\u001b[0m\u001b[0;34m\u001b[0m\u001b[0m\n\u001b[0;32m--> 294\u001b[0;31m                     \u001b[0;32mraise\u001b[0m \u001b[0mexc\u001b[0m\u001b[0;34m.\u001b[0m\u001b[0mwith_traceback\u001b[0m\u001b[0;34m(\u001b[0m\u001b[0mtraceback\u001b[0m\u001b[0;34m)\u001b[0m\u001b[0;34m\u001b[0m\u001b[0;34m\u001b[0m\u001b[0m\n\u001b[0m\u001b[1;32m    295\u001b[0m \u001b[0;34m\u001b[0m\u001b[0m\n\u001b[1;32m    296\u001b[0m                 \u001b[0;32mraise\u001b[0m \u001b[0mexc\u001b[0m\u001b[0;34m\u001b[0m\u001b[0;34m\u001b[0m\u001b[0m\n",
      "\u001b[0;32m/opt/conda/lib/python3.8/site-packages/feast/usage.py\u001b[0m in \u001b[0;36mwrapper\u001b[0;34m(*args, **kwargs)\u001b[0m\n\u001b[1;32m    281\u001b[0m \u001b[0;34m\u001b[0m\u001b[0m\n\u001b[1;32m    282\u001b[0m             \u001b[0;32mtry\u001b[0m\u001b[0;34m:\u001b[0m\u001b[0;34m\u001b[0m\u001b[0;34m\u001b[0m\u001b[0m\n\u001b[0;32m--> 283\u001b[0;31m                 \u001b[0;32mreturn\u001b[0m \u001b[0mfunc\u001b[0m\u001b[0;34m(\u001b[0m\u001b[0;34m*\u001b[0m\u001b[0margs\u001b[0m\u001b[0;34m,\u001b[0m \u001b[0;34m**\u001b[0m\u001b[0mkwargs\u001b[0m\u001b[0;34m)\u001b[0m\u001b[0;34m\u001b[0m\u001b[0;34m\u001b[0m\u001b[0m\n\u001b[0m\u001b[1;32m    284\u001b[0m             \u001b[0;32mexcept\u001b[0m \u001b[0mException\u001b[0m\u001b[0;34m:\u001b[0m\u001b[0;34m\u001b[0m\u001b[0;34m\u001b[0m\u001b[0m\n\u001b[1;32m    285\u001b[0m                 \u001b[0;32mif\u001b[0m \u001b[0mctx\u001b[0m\u001b[0;34m.\u001b[0m\u001b[0mexception\u001b[0m\u001b[0;34m:\u001b[0m\u001b[0;34m\u001b[0m\u001b[0;34m\u001b[0m\u001b[0m\n",
      "\u001b[0;32m/opt/conda/lib/python3.8/site-packages/feast/feature_store.py\u001b[0m in \u001b[0;36mmaterialize\u001b[0;34m(self, start_date, end_date, feature_views)\u001b[0m\n\u001b[1;32m   1398\u001b[0m             \u001b[0mend_date\u001b[0m \u001b[0;34m=\u001b[0m \u001b[0mutils\u001b[0m\u001b[0;34m.\u001b[0m\u001b[0mmake_tzaware\u001b[0m\u001b[0;34m(\u001b[0m\u001b[0mend_date\u001b[0m\u001b[0;34m)\u001b[0m\u001b[0;34m\u001b[0m\u001b[0;34m\u001b[0m\u001b[0m\n\u001b[1;32m   1399\u001b[0m \u001b[0;34m\u001b[0m\u001b[0m\n\u001b[0;32m-> 1400\u001b[0;31m             provider.materialize_single_feature_view(\n\u001b[0m\u001b[1;32m   1401\u001b[0m                 \u001b[0mconfig\u001b[0m\u001b[0;34m=\u001b[0m\u001b[0mself\u001b[0m\u001b[0;34m.\u001b[0m\u001b[0mconfig\u001b[0m\u001b[0;34m,\u001b[0m\u001b[0;34m\u001b[0m\u001b[0;34m\u001b[0m\u001b[0m\n\u001b[1;32m   1402\u001b[0m                 \u001b[0mfeature_view\u001b[0m\u001b[0;34m=\u001b[0m\u001b[0mfeature_view\u001b[0m\u001b[0;34m,\u001b[0m\u001b[0;34m\u001b[0m\u001b[0;34m\u001b[0m\u001b[0m\n",
      "\u001b[0;32m/opt/conda/lib/python3.8/site-packages/feast/infra/passthrough_provider.py\u001b[0m in \u001b[0;36mmaterialize_single_feature_view\u001b[0;34m(self, config, feature_view, start_date, end_date, registry, project, tqdm_builder)\u001b[0m\n\u001b[1;32m    247\u001b[0m             \u001b[0mtqdm_builder\u001b[0m\u001b[0;34m=\u001b[0m\u001b[0mtqdm_builder\u001b[0m\u001b[0;34m,\u001b[0m\u001b[0;34m\u001b[0m\u001b[0;34m\u001b[0m\u001b[0m\n\u001b[1;32m    248\u001b[0m         )\n\u001b[0;32m--> 249\u001b[0;31m         \u001b[0mjobs\u001b[0m \u001b[0;34m=\u001b[0m \u001b[0mself\u001b[0m\u001b[0;34m.\u001b[0m\u001b[0mbatch_engine\u001b[0m\u001b[0;34m.\u001b[0m\u001b[0mmaterialize\u001b[0m\u001b[0;34m(\u001b[0m\u001b[0mregistry\u001b[0m\u001b[0;34m,\u001b[0m \u001b[0;34m[\u001b[0m\u001b[0mtask\u001b[0m\u001b[0;34m]\u001b[0m\u001b[0;34m)\u001b[0m\u001b[0;34m\u001b[0m\u001b[0;34m\u001b[0m\u001b[0m\n\u001b[0m\u001b[1;32m    250\u001b[0m         \u001b[0;32massert\u001b[0m \u001b[0mlen\u001b[0m\u001b[0;34m(\u001b[0m\u001b[0mjobs\u001b[0m\u001b[0;34m)\u001b[0m \u001b[0;34m==\u001b[0m \u001b[0;36m1\u001b[0m\u001b[0;34m\u001b[0m\u001b[0;34m\u001b[0m\u001b[0m\n\u001b[1;32m    251\u001b[0m         \u001b[0;32mif\u001b[0m \u001b[0mjobs\u001b[0m\u001b[0;34m[\u001b[0m\u001b[0;36m0\u001b[0m\u001b[0;34m]\u001b[0m\u001b[0;34m.\u001b[0m\u001b[0mstatus\u001b[0m\u001b[0;34m(\u001b[0m\u001b[0;34m)\u001b[0m \u001b[0;34m==\u001b[0m \u001b[0mMaterializationJobStatus\u001b[0m\u001b[0;34m.\u001b[0m\u001b[0mERROR\u001b[0m \u001b[0;32mand\u001b[0m \u001b[0mjobs\u001b[0m\u001b[0;34m[\u001b[0m\u001b[0;36m0\u001b[0m\u001b[0;34m]\u001b[0m\u001b[0;34m.\u001b[0m\u001b[0merror\u001b[0m\u001b[0;34m(\u001b[0m\u001b[0;34m)\u001b[0m\u001b[0;34m:\u001b[0m\u001b[0;34m\u001b[0m\u001b[0;34m\u001b[0m\u001b[0m\n",
      "\u001b[0;32m/opt/conda/lib/python3.8/site-packages/feast/infra/passthrough_provider.py\u001b[0m in \u001b[0;36mbatch_engine\u001b[0;34m(self)\u001b[0m\n\u001b[1;32m     88\u001b[0m                 \u001b[0mengine_config_type\u001b[0m \u001b[0;34m=\u001b[0m \u001b[0mBATCH_ENGINE_CLASS_FOR_TYPE\u001b[0m\u001b[0;34m[\u001b[0m\u001b[0mengine_config_type\u001b[0m\u001b[0;34m]\u001b[0m\u001b[0;34m\u001b[0m\u001b[0;34m\u001b[0m\u001b[0m\n\u001b[1;32m     89\u001b[0m             \u001b[0mengine_module\u001b[0m\u001b[0;34m,\u001b[0m \u001b[0mengine_class_name\u001b[0m \u001b[0;34m=\u001b[0m \u001b[0mengine_config_type\u001b[0m\u001b[0;34m.\u001b[0m\u001b[0mrsplit\u001b[0m\u001b[0;34m(\u001b[0m\u001b[0;34m\".\"\u001b[0m\u001b[0;34m,\u001b[0m \u001b[0;36m1\u001b[0m\u001b[0;34m)\u001b[0m\u001b[0;34m\u001b[0m\u001b[0;34m\u001b[0m\u001b[0m\n\u001b[0;32m---> 90\u001b[0;31m             \u001b[0mengine_class\u001b[0m \u001b[0;34m=\u001b[0m \u001b[0mimporter\u001b[0m\u001b[0;34m.\u001b[0m\u001b[0mimport_class\u001b[0m\u001b[0;34m(\u001b[0m\u001b[0mengine_module\u001b[0m\u001b[0;34m,\u001b[0m \u001b[0mengine_class_name\u001b[0m\u001b[0;34m)\u001b[0m\u001b[0;34m\u001b[0m\u001b[0;34m\u001b[0m\u001b[0m\n\u001b[0m\u001b[1;32m     91\u001b[0m \u001b[0;34m\u001b[0m\u001b[0m\n\u001b[1;32m     92\u001b[0m             \u001b[0;32mif\u001b[0m \u001b[0mconfig_is_dict\u001b[0m\u001b[0;34m:\u001b[0m\u001b[0;34m\u001b[0m\u001b[0;34m\u001b[0m\u001b[0m\n",
      "\u001b[0;32m/opt/conda/lib/python3.8/site-packages/feast/importer.py\u001b[0m in \u001b[0;36mimport_class\u001b[0;34m(module_name, class_name, class_type)\u001b[0m\n\u001b[1;32m     29\u001b[0m         \u001b[0;31m# or any other kind of error happening during the module import time.\u001b[0m\u001b[0;34m\u001b[0m\u001b[0;34m\u001b[0m\u001b[0;34m\u001b[0m\u001b[0m\n\u001b[1;32m     30\u001b[0m         \u001b[0;31m# So we should include the original error as well in the stack trace.\u001b[0m\u001b[0;34m\u001b[0m\u001b[0;34m\u001b[0m\u001b[0;34m\u001b[0m\u001b[0m\n\u001b[0;32m---> 31\u001b[0;31m         \u001b[0;32mraise\u001b[0m \u001b[0mFeastModuleImportError\u001b[0m\u001b[0;34m(\u001b[0m\u001b[0mmodule_name\u001b[0m\u001b[0;34m,\u001b[0m \u001b[0mclass_name\u001b[0m\u001b[0;34m)\u001b[0m \u001b[0;32mfrom\u001b[0m \u001b[0me\u001b[0m\u001b[0;34m\u001b[0m\u001b[0;34m\u001b[0m\u001b[0m\n\u001b[0m\u001b[1;32m     32\u001b[0m \u001b[0;34m\u001b[0m\u001b[0m\n\u001b[1;32m     33\u001b[0m     \u001b[0;31m# Try getting the class.\u001b[0m\u001b[0;34m\u001b[0m\u001b[0;34m\u001b[0m\u001b[0;34m\u001b[0m\u001b[0m\n",
      "\u001b[0;31mFeastModuleImportError\u001b[0m: Could not import module 'feast.infra.materialization.local_engine' while attempting to load class 'LocalMaterializationEngine'"
     ]
    }
   ],
   "source": [
    "from datetime import datetime, timedelta\n",
    "store.materialize(\n",
    "    feature_views=[\"credit_history\"],\n",
    "    start_date=datetime.utcnow() - timedelta(days=1000), end_date=datetime.utcnow() - timedelta(minutes=10)\n",
    ")"
   ]
  },
  {
   "cell_type": "code",
   "execution_count": null,
   "id": "164a8473-a6ea-4851-aa12-debfbf7e0bf9",
   "metadata": {},
   "outputs": [],
   "source": [
    "from datetime import datetime, timedelta\n",
    "store.materialize(\n",
    "    feature_views=[\"zipcode_features\"],\n",
    "    start_date=datetime.utcnow() - timedelta(days=3650), end_date=datetime.utcnow() - timedelta(minutes=10)\n",
    ")"
   ]
  },
  {
   "cell_type": "code",
   "execution_count": null,
   "id": "c5a72519-0b6a-49ee-b0d6-4f750538893a",
   "metadata": {},
   "outputs": [],
   "source": [
    "store.materialize(\n",
    "    feature_views=[\"client_features\"],\n",
    "    start_date=datetime.utcnow() - timedelta(days=3650), end_date=datetime.utcnow() - timedelta(minutes=10)\n",
    ")"
   ]
  },
  {
   "cell_type": "code",
   "execution_count": 5,
   "id": "d361bc5d-d76d-463c-a9ef-87fcdf0144f5",
   "metadata": {
    "tags": []
   },
   "outputs": [
    {
     "name": "stderr",
     "output_type": "stream",
     "text": [
      "/opt/conda/lib/python3.8/site-packages/feast/feature_store.py:1235: RuntimeWarning: Retrieving datasets is an experimental feature. This API is unstable and it could and most probably will be changed in the future. We do not guarantee that future changes will maintain backward compatibility.\n",
      "  warnings.warn(\n"
     ]
    },
    {
     "name": "stdout",
     "output_type": "stream",
     "text": [
      "0.8571428571428571\n",
      "0.586046511627907\n",
      "0.6961325966850829\n"
     ]
    },
    {
     "name": "stderr",
     "output_type": "stream",
     "text": [
      "/opt/conda/lib/python3.8/site-packages/mlflow/models/signature.py:129: UserWarning: Hint: Inferred schema contains integer column(s). Integer columns in Python cannot represent missing values. If your input data contains missing values at inference time, it will be encoded as floats and will cause a schema enforcement error. The best way to avoid this problem is to infer the model schema based on a realistic data sample (training dataset) that includes missing values. Alternatively, you can declare integer columns as doubles (float64) whenever these columns may have missing values. See `Handling Integers With Missing Values <https://www.mlflow.org/docs/latest/models.html#handling-integers-with-missing-values>`_ for more details.\n",
      "  inputs = _infer_schema(model_input)\n"
     ]
    }
   ],
   "source": [
    "\n",
    "from sklearn import tree\n",
    "from sklearn import ensemble\n",
    "from sklearn.preprocessing import OrdinalEncoder\n",
    "from sklearn.model_selection import train_test_split\n",
    "from sklearn.metrics import accuracy_score, make_scorer\n",
    "import numpy as np\n",
    "from sklearn.metrics import precision_score, recall_score, f1_score\n",
    "from mlflow.models.signature import infer_signature\n",
    "from mlflow.models import MetricThreshold\n",
    "import pandas as pd\n",
    "import dill\n",
    "import sklearn\n",
    "import json\n",
    "\n",
    "from feast import FeatureStore\n",
    "\n",
    "store = FeatureStore(repo_path=\".\")\n",
    "dataset_name = 'loan_approval_baseline'\n",
    "training_df = store.get_saved_dataset(dataset_name).to_df()\n",
    "\n",
    "encoder = OrdinalEncoder()\n",
    "categorical_features = [\n",
    "    \"person_home_ownership\",\n",
    "    \"loan_intent\",\n",
    "    \"state\",\n",
    "]\n",
    "cols_to_drop = ['created_timestamp', 'event_timestamp', 'loan_id', 'zipcode', 'dob_ssn', 'city', 'location_type']\n",
    "\n",
    "encoder.fit(training_df[categorical_features])\n",
    "transform_training_df=training_df.copy()\n",
    "transform_training_df[categorical_features] = encoder.transform(\n",
    "    training_df[categorical_features]\n",
    ")\n",
    "\n",
    "target = \"loan_status\"\n",
    "train_X = transform_training_df[\n",
    "    transform_training_df.columns.drop(target)\n",
    "    .drop(\"event_timestamp\")\n",
    "    .drop(\"created_timestamp\")\n",
    "    .drop(\"loan_id\")\n",
    "    .drop(\"person_income\")\n",
    "    .drop(\"zipcode\")\n",
    "    .drop(\"dob_ssn\")\n",
    "    .drop(\"city\")\n",
    "    .drop(\"location_type\")\n",
    "]\n",
    "train_X = train_X.reindex(sorted(train_X.columns), axis=1)\n",
    "train_Y = transform_training_df.loc[:, target]\n",
    "\n",
    "x_train, x_test, y_train, y_test = train_test_split(train_X, train_Y, test_size=0.10)\n",
    "\n",
    "n_estimators = 100\n",
    "classifier = ensemble.GradientBoostingClassifier(n_estimators=n_estimators)\n",
    "classifier.fit(x_train, y_train)\n",
    "predictions = classifier.predict(x_test)\n",
    "\n",
    "accuracy = accuracy_score(y_true=y_test, y_pred = predictions)\n",
    "\n",
    "def eval_metrics(actual, pred):\n",
    "    precision = precision_score(actual, pred)\n",
    "    recall = recall_score(actual, pred)\n",
    "    f1 = f1_score(actual, pred)\n",
    "    return precision, recall, f1\n",
    "\n",
    "(precision, recall, f1) = eval_metrics(y_test, predictions)\n",
    "print(precision)\n",
    "print(recall)\n",
    "print(f1)\n",
    "\n",
    "import joblib\n",
    "\n",
    "model_name = \"model.bin\"\n",
    "encoder_name = \"encoder.bin\"\n",
    "\n",
    "joblib.dump(classifier, model_name)\n",
    "joblib.dump(encoder, encoder_name)\n",
    "\n",
    "artifacts = {\n",
    "    \"model\": model_name,\n",
    "    \"encoder\": encoder_name,\n",
    "}\n",
    "\n",
    "data_cfg_name = \"data_cfg.json\"\n",
    "\n",
    "data_cfg = {\n",
    "    'type': 'feast_dataset',\n",
    "    'fs_path': \".\",\n",
    "    'dataset_path': dataset_name,\n",
    "    'categorical_features': categorical_features,\n",
    "    'cols_to_drop': cols_to_drop,\n",
    "}\n",
    "\n",
    "with open(data_cfg_name, 'w') as fp:\n",
    "    json.dump(data_cfg, fp)\n",
    "\n",
    "target_column = 'loan_status'\n",
    "eval_data = x_test\n",
    "eval_data[target_column] = y_test\n",
    "\n",
    "eval_train_df = training_df.copy()\n",
    "eval_train_df=eval_train_df[\n",
    "    eval_train_df.columns\n",
    "    .drop(\"event_timestamp\")\n",
    "    .drop(\"created_timestamp\")\n",
    "    .drop(\"loan_id\")\n",
    "    .drop(\"person_income\")\n",
    "    .drop(\"city\")\n",
    "    .drop(\"location_type\")\n",
    "]\n",
    "\n",
    "signature = infer_signature(x_test, predictions)\n",
    "\n",
    "wrapped_signature = infer_signature\n",
    "\n",
    "import mlflow\n",
    "from mlflow.models.signature import ModelSignature\n",
    "from mlflow.types.schema import Schema, ColSpec\n",
    "import logging\n",
    "\n",
    "class ModelWrapper(mlflow.pyfunc.PythonModel):\n",
    "\n",
    "    def load_context(self, context):\n",
    "        import joblib\n",
    "        self.encoder = joblib.load(context.artifacts[\"encoder\"])            \n",
    "        self.model = joblib.load(context.artifacts[\"model\"]) \n",
    "        self.categorical_features = [\n",
    "            \"person_home_ownership\",\n",
    "            \"loan_intent\",\n",
    "            \"state\",\n",
    "        ]\n",
    "\n",
    "    def predict(self, context, inp):\n",
    "\n",
    "        import pandas as pd\n",
    "\n",
    "        logger = logging.getLogger(__name__)\n",
    "\n",
    "        if isinstance(inp, dict):\n",
    "            features_df = pd.DataFrame.from_dict(inp)\n",
    "        elif isinstance(inp, pd.DataFrame):\n",
    "            features_df = inp\n",
    "\n",
    "        logger.debug(\"Enriching features DataFrame: %s\", features_df)\n",
    "\n",
    "        # Apply ordinal encoding to categorical features\n",
    "        features_df[self.categorical_features] = self.encoder.transform(\n",
    "            features_df[self.categorical_features]\n",
    "        )\n",
    "\n",
    "        logger.debug(\"features DataFrame after encoging: %s\", features_df)\n",
    "\n",
    "        # Sort columns\n",
    "        features_df = features_df.reindex(sorted(features_df.columns), axis=1)\n",
    "\n",
    "        # Drop unnecessary columns\n",
    "        df_for_predict = features_df.copy()\n",
    "        if \"city\" in df_for_predict.columns:\n",
    "            df_for_predict = df_for_predict[df_for_predict.columns.drop(\"city\").drop(\"location_type\")]\n",
    "\n",
    "        if \"zipcode\" in df_for_predict.columns:\n",
    "            df_for_predict = df_for_predict[df_for_predict.columns.drop(\"zipcode\").drop(\"dob_ssn\")]\n",
    "\n",
    "        logger.debug(\"features DataFrame before predict: %s\", df_for_predict)\n",
    "\n",
    "        # Make prediction\n",
    "#         df_for_predict[\"prediction\"] = self.model.predict(df_for_predict)\n",
    "        \n",
    "        result = self.model.predict(df_for_predict)\n",
    "\n",
    "#         result = pd.merge(features_df, df_for_predict, left_index=True, right_index=True)[[\"zipcode\", \"dob_ssn\", \"prediction\"]]\n",
    "\n",
    "#         logger.debug(\"result of predict: %s\", result)\n",
    "\n",
    "        # return result of credit scoring\n",
    "#         return result.to_numpy()\n",
    "        return result\n",
    "#                 return df_for_predict.to_numpy()\n",
    "\n",
    "conda_env={\n",
    "    'channels': ['defaults'],\n",
    "    'dependencies': [\n",
    "      'python=3.8.10',\n",
    "      'pip',\n",
    "      {\n",
    "        'pip': [\n",
    "          'mlflow=={}'.format(mlflow.__version__),\n",
    "          'numpy==1.23.4',\n",
    "          'scikit-learn=={}'.format(sklearn.__version__),\n",
    "          'joblib=={}'.format(joblib.__version__),\n",
    "          'dill=={}'.format(dill.__version__),\n",
    "#           'numpy==1.19',\n",
    "        ],\n",
    "      },\n",
    "    ],\n",
    "    'name': 'demo_env'\n",
    "}\n",
    "\n",
    "thresholds = {\n",
    "#     \"mean_ks_test\": MetricThreshold(\n",
    "#         threshold=0.05,\n",
    "#         higher_is_better=True,\n",
    "#     ),\n",
    "#     \"min_ks_test\": MetricThreshold(\n",
    "#         threshold=0.05,\n",
    "#         higher_is_better=True,\n",
    "#     ),\n",
    "#     \"mean_chi_square\": MetricThreshold(\n",
    "#         threshold=0.05,\n",
    "#         higher_is_better=True,\n",
    "#     ),\n",
    "#     \"min_chi_square\": MetricThreshold(\n",
    "#         threshold=0.05,\n",
    "#         higher_is_better=True,\n",
    "#     ),\n",
    "    \"accuracy_score\": MetricThreshold(\n",
    "        threshold=0.05,\n",
    "        higher_is_better=True,\n",
    "    ),\n",
    "}\n",
    "\n",
    "# mlflow.set_experiment(\"loans_demo_dev2\")\n",
    "\n",
    "# with mlflow.start_run(run_name='train baseline model') as current_run:\n",
    "\n",
    "#     mlflow.log_param(\"n_estimators\", n_estimators)\n",
    "\n",
    "#     mlflow.set_tag('base_dataset', dataset_name)\n",
    "\n",
    "#     model_without_wrapper = mlflow.sklearn.log_model(\n",
    "#         classifier, \"model\",  \n",
    "#         conda_env=conda_env, \n",
    "#         signature=signature\n",
    "#     )\n",
    "    \n",
    "# #     mlflow.log_artifact(data_cfg_name)\n",
    "\n",
    "#     result = mlflow.evaluate(\n",
    "#         model_without_wrapper.model_uri,\n",
    "#         eval_data,\n",
    "#         targets=target_column,\n",
    "#         model_type=\"classifier\",\n",
    "#         evaluators=[\"default\"],\n",
    "#         validation_thresholds=thresholds,\n",
    "#     )\n",
    "\n",
    "#     with mlflow.start_run(run_name='train baseline model', nested=True) as current_run:\n",
    "#         model_info = mlflow.pyfunc.log_model(\n",
    "#             artifact_path=\"model\", \n",
    "#             python_model=ModelWrapper(),\n",
    "#             artifacts=artifacts,\n",
    "#             conda_env=conda_env,\n",
    "# #                     signature=signature\n",
    "#         )\n",
    "        \n",
    "#         mlflow.log_artifact(data_cfg_name)\n",
    "\n",
    "#         result = mlflow.evaluate(\n",
    "#             model_info.model_uri,\n",
    "#             eval_train_df,\n",
    "#             targets=target_column,\n",
    "#             model_type=\"classifier\",\n",
    "#             evaluators=[\"default\"],\n",
    "#             validation_thresholds=thresholds,\n",
    "#         )\n",
    "\n",
    "#     run_id = current_run.info.run_id\n",
    "#     print(run_id)\n"
   ]
  },
  {
   "cell_type": "code",
   "execution_count": null,
   "id": "c4610ada-abb7-4650-9e07-61d07792825b",
   "metadata": {},
   "outputs": [],
   "source": [
    "mlflow.pyfunc.get_model_dependencies(model_uri)"
   ]
  },
  {
   "cell_type": "code",
   "execution_count": null,
   "id": "1ae993d7-33e5-4522-9c12-3e9feadbbc6f",
   "metadata": {
    "tags": []
   },
   "outputs": [],
   "source": [
    "%pip install feast[cassandra]==0.26"
   ]
  },
  {
   "cell_type": "code",
   "execution_count": null,
   "id": "752f8946-93ad-46e6-8fa2-c9077ca081ed",
   "metadata": {},
   "outputs": [],
   "source": [
    "%pip install psycopg2-binary"
   ]
  },
  {
   "cell_type": "code",
   "execution_count": null,
   "id": "2857a04e-4a79-429f-9839-43598f3c3ef1",
   "metadata": {},
   "outputs": [],
   "source": []
  },
  {
   "cell_type": "code",
   "execution_count": null,
   "id": "78e8a798-13e2-4f00-abca-05a49ef011d6",
   "metadata": {},
   "outputs": [],
   "source": [
    "import pandas as pd"
   ]
  },
  {
   "cell_type": "code",
   "execution_count": null,
   "id": "e9f07a17-359b-4eae-add8-5b0d8fb58be0",
   "metadata": {},
   "outputs": [],
   "source": [
    "pd.read_parquet(\"loan_approval_2022q3.parquet\").dtypes"
   ]
  },
  {
   "cell_type": "code",
   "execution_count": null,
   "id": "2c073f47-dbc7-4e47-99f1-38cc1bb8d54c",
   "metadata": {},
   "outputs": [],
   "source": [
    "loans = pd.read_parquet(\"loan_table.parquet\")"
   ]
  },
  {
   "cell_type": "code",
   "execution_count": null,
   "id": "fa6264b1-85a9-4729-96dc-5959c9a8c9da",
   "metadata": {},
   "outputs": [],
   "source": [
    "loans.columns"
   ]
  },
  {
   "cell_type": "code",
   "execution_count": null,
   "id": "d711d390-8f7e-457d-be40-793566bf6e85",
   "metadata": {},
   "outputs": [],
   "source": [
    "q3 = pd.read_parquet(\"loan_approval_baseline.parquet\")[loans.columns]"
   ]
  },
  {
   "cell_type": "code",
   "execution_count": null,
   "id": "27d4f75f-0242-4ee1-a2c7-47178b1307ef",
   "metadata": {},
   "outputs": [],
   "source": [
    "loan_features = store.get_feature_service('loan_features')"
   ]
  },
  {
   "cell_type": "code",
   "execution_count": null,
   "id": "78759f7c-6dc3-440b-bc24-4a19e0f80382",
   "metadata": {},
   "outputs": [],
   "source": [
    "\n"
   ]
  },
  {
   "cell_type": "code",
   "execution_count": null,
   "id": "edef40f3-62df-4bc4-9180-b84ffaad15a1",
   "metadata": {},
   "outputs": [],
   "source": [
    "merged"
   ]
  },
  {
   "cell_type": "code",
   "execution_count": null,
   "id": "82b8e991-66e1-41dd-a0ec-c4fe7e1eefab",
   "metadata": {},
   "outputs": [],
   "source": [
    "training_df = training_features.to_df()\n",
    "\n",
    "training_df"
   ]
  },
  {
   "cell_type": "code",
   "execution_count": null,
   "id": "b45db28f-7104-48d1-a8c2-7e96e8d1f75d",
   "metadata": {},
   "outputs": [],
   "source": [
    "q3"
   ]
  },
  {
   "cell_type": "code",
   "execution_count": null,
   "id": "9bc7a984-c23e-496f-aec6-e74d2c0f0c63",
   "metadata": {},
   "outputs": [],
   "source": [
    "q3[\"loan_id\"].values"
   ]
  },
  {
   "cell_type": "code",
   "execution_count": null,
   "id": "1494f815-6b05-4fae-b707-3171c3069b44",
   "metadata": {},
   "outputs": [],
   "source": [
    "q3.sort_values('loan_id')"
   ]
  },
  {
   "cell_type": "code",
   "execution_count": null,
   "id": "8427a5f4-cc5a-4fbd-b288-3b9dcc4e5ec1",
   "metadata": {},
   "outputs": [],
   "source": [
    "test = loans[loans[\"loan_id\"].isin(q3[\"loan_id\"].values)]"
   ]
  },
  {
   "cell_type": "code",
   "execution_count": null,
   "id": "96a2b35b-bb70-4548-93aa-b1a273dcf1b1",
   "metadata": {},
   "outputs": [],
   "source": [
    "loan_times = loans[[\"loan_id\", \"event_timestamp\", \"created_timestamp\"]]"
   ]
  },
  {
   "cell_type": "code",
   "execution_count": null,
   "id": "93d28364-7758-4475-89b6-56188761d42c",
   "metadata": {},
   "outputs": [],
   "source": [
    "loan_times"
   ]
  },
  {
   "cell_type": "code",
   "execution_count": null,
   "id": "57a526fe-d3ac-4474-8dab-65f67177f162",
   "metadata": {},
   "outputs": [],
   "source": [
    "q3_without_time = q3[['loan_id', 'dob_ssn', 'zipcode', 'person_age', 'person_income',\n",
    "       'person_home_ownership', 'person_emp_length', 'loan_intent',\n",
    "       'loan_amnt', 'loan_int_rate', 'loan_status']]"
   ]
  },
  {
   "cell_type": "code",
   "execution_count": null,
   "id": "0ee893f2-65e5-44d1-b359-dc6571fe2d71",
   "metadata": {},
   "outputs": [],
   "source": [
    "pd.concat([q3_without_time.set_index('loan_id'),loan_times.set_index('loan_id')], axis=1, join='inner').reset_index()"
   ]
  },
  {
   "cell_type": "code",
   "execution_count": null,
   "id": "131ef571-b5fa-475c-b14c-ff2885ed9260",
   "metadata": {},
   "outputs": [],
   "source": [
    "merged = q3_without_time.merge(loan_times, on=\"loan_id\", how=\"left\")"
   ]
  },
  {
   "cell_type": "code",
   "execution_count": null,
   "id": "ea60f5a8-ff0a-4ffd-9288-b184364bc54a",
   "metadata": {},
   "outputs": [],
   "source": [
    "from feast.infra.offline_stores.contrib.postgres_offline_store.postgres_source import (\n",
    "    PostgreSQLSource, SavedDatasetPostgreSQLStorage\n",
    ")\n",
    "\n",
    "training_features = store.get_historical_features(\n",
    "    entity_df=merged, \n",
    "    features=loan_features\n",
    ")\n",
    "\n",
    "dataset = store.create_saved_dataset(\n",
    "    from_=training_features,\n",
    "    name=f'loan_approval_baseline',\n",
    "    storage=SavedDatasetPostgreSQLStorage(table_ref=f'loan_approval_baseline')\n",
    ")"
   ]
  },
  {
   "cell_type": "code",
   "execution_count": null,
   "id": "6a6d1236-8e08-4fa2-943d-82160cd9ccb3",
   "metadata": {},
   "outputs": [],
   "source": [
    "merged"
   ]
  },
  {
   "cell_type": "code",
   "execution_count": null,
   "id": "227a4434-44c2-4bf0-8548-0816ddce9036",
   "metadata": {
    "tags": []
   },
   "outputs": [],
   "source": [
    "import mlflow\n",
    "logged_model = 'runs:/7c6fd1832f0b48cbb7d00e2b8141742d/model'\n",
    "\n",
    "# Load model as a PyFuncModel.\n",
    "loaded_model = mlflow.pyfunc.load_model(logged_model)\n",
    "\n",
    "# Predict on a Pandas DataFrame.\n",
    "\n",
    "# loaded_model.predict(training_df.drop([\"person_income\", \"loan_status\"]))"
   ]
  },
  {
   "cell_type": "code",
   "execution_count": null,
   "id": "cea0bd75-aba1-4961-8962-fd79ae7be177",
   "metadata": {},
   "outputs": [],
   "source": [
    "training_df.columns"
   ]
  },
  {
   "cell_type": "code",
   "execution_count": null,
   "id": "4e8790a4-b304-422c-a515-36f8161e1110",
   "metadata": {},
   "outputs": [],
   "source": [
    "training_df.drop([\"person_income\", \"loan_status\"], axis=1).dtypes"
   ]
  },
  {
   "cell_type": "code",
   "execution_count": null,
   "id": "63e4008c-52a8-491a-a453-d375f04aecaa",
   "metadata": {
    "tags": []
   },
   "outputs": [],
   "source": [
    "loaded_model.predict(training_df[[\"zipcode\",\"dob_ssn\",\"tax_returns_filed\",\"total_wages\",\"state\",\"population\",\"student_loan_due\",\"credit_card_due\",\"missed_payments_1y\",\"vehicle_loan_due\",\"bankruptcies\",\"missed_payments_6m\",\"hard_pulls\",\"mortgage_due\",\"missed_payments_2y\",\"incomeamount12m\",\"person_age\",\"person_home_ownership\",\"person_emp_length\",\"loan_intent\",\"loan_amnt\",\"loan_int_rate\"]])"
   ]
  },
  {
   "cell_type": "code",
   "execution_count": null,
   "id": "1544e1fd-2636-452f-a397-d2d73f4ee8c2",
   "metadata": {},
   "outputs": [],
   "source": [
    "dataset_name = 'loan_approval_2022q3_m1'\n",
    "training_df2 = store.get_saved_dataset(dataset_name).to_df()"
   ]
  },
  {
   "cell_type": "code",
   "execution_count": null,
   "id": "77dec1fd-0358-441d-b201-5b0503490c91",
   "metadata": {},
   "outputs": [],
   "source": [
    "training_df2[[\"zipcode\",\"dob_ssn\",\"tax_returns_filed\",\"location_type\",\"city\",\"total_wages\",\"state\",\"population\",\"student_loan_due\",\"credit_card_due\",\"missed_payments_1y\",\"vehicle_loan_due\",\"bankruptcies\",\"missed_payments_6m\",\"hard_pulls\",\"mortgage_due\",\"missed_payments_2y\",\"incomeamount12m\",\"person_age\",\"person_home_ownership\",\"person_emp_length\",\"loan_intent\",\"loan_amnt\",\"loan_int_rate\"]]"
   ]
  },
  {
   "cell_type": "code",
   "execution_count": null,
   "id": "49fad3b0-4dd5-4c59-b4ea-a6d35aa01a43",
   "metadata": {},
   "outputs": [],
   "source": [
    "loans.columns"
   ]
  },
  {
   "cell_type": "code",
   "execution_count": null,
   "id": "d254cda4-2915-4050-aee0-0b05a1d8b9a9",
   "metadata": {},
   "outputs": [],
   "source": [
    "\"person_age\",\"person_home_ownership\",\"person_emp_length\",\"loan_intent\",\"loan_amnt\",\"loan_int_rate\""
   ]
  },
  {
   "cell_type": "code",
   "execution_count": null,
   "id": "3a0320b4-1fe8-4461-89bc-4ba34a9487de",
   "metadata": {
    "tags": []
   },
   "outputs": [],
   "source": [
    "training_df"
   ]
  },
  {
   "cell_type": "code",
   "execution_count": null,
   "id": "9aa9cfeb-d742-4c0c-9e5d-e28d456c6a69",
   "metadata": {},
   "outputs": [],
   "source": [
    "training_df3 = "
   ]
  },
  {
   "cell_type": "code",
   "execution_count": null,
   "id": "e0ff2954-eb4f-46ce-a2b4-8d83d87684a2",
   "metadata": {},
   "outputs": [],
   "source": []
  },
  {
   "cell_type": "code",
   "execution_count": null,
   "id": "4f7f9e83-2ce7-4ce6-96f6-84f2d9d2734e",
   "metadata": {},
   "outputs": [],
   "source": []
  },
  {
   "cell_type": "code",
   "execution_count": null,
   "id": "d6f60583-c673-4377-9eac-37cae035dc61",
   "metadata": {},
   "outputs": [],
   "source": [
    "categorical_features = [\n",
    "    \"person_home_ownership\",\n",
    "    \"loan_intent\",\n",
    "    \"city\",\n",
    "    \"state\",\n",
    "    \"location_type\",\n",
    "]\n",
    "numeric_features = [\n",
    "    \"zipcode\",\"dob_ssn\",\"tax_returns_filed\",\"total_wages\",\"population\",\"student_loan_due\",\n",
    "    \"credit_card_due\",\"missed_payments_1y\",\"vehicle_loan_due\",\"bankruptcies\",\n",
    "    \"missed_payments_6m\",\"hard_pulls\",\"mortgage_due\",\"missed_payments_2y\",\"incomeamount12m\",\n",
    "    \"person_age\",\"person_emp_length\",\"loan_amnt\",\"loan_int_rate\"\n",
    "]\n",
    "target = \"loan_status\""
   ]
  },
  {
   "cell_type": "code",
   "execution_count": null,
   "id": "706ad57c-50ef-4e44-986d-be1932d0b70d",
   "metadata": {},
   "outputs": [],
   "source": [
    "categorical_features + numeric_features + [target]"
   ]
  },
  {
   "cell_type": "code",
   "execution_count": null,
   "id": "be31b790-1033-4586-887c-ac9e0416b6ed",
   "metadata": {},
   "outputs": [],
   "source": [
    "training_df[categorical_features + numeric_features + [target]]"
   ]
  },
  {
   "cell_type": "code",
   "execution_count": null,
   "id": "f8e9c672-f7c9-4ec0-b66c-5afb128c3b4b",
   "metadata": {},
   "outputs": [],
   "source": []
  },
  {
   "cell_type": "code",
   "execution_count": null,
   "id": "e673337b-10ec-4cbd-90a6-f23e2d5e55e6",
   "metadata": {},
   "outputs": [],
   "source": []
  },
  {
   "cell_type": "code",
   "execution_count": null,
   "id": "4a6b1c87-0f61-4169-b9c4-a552142817dc",
   "metadata": {},
   "outputs": [],
   "source": []
  },
  {
   "cell_type": "code",
   "execution_count": null,
   "id": "e651b3a0-cc8f-4dc7-b236-012fe2747fb0",
   "metadata": {},
   "outputs": [],
   "source": [
    "from mlflow import MlflowClient\n",
    "client = MlflowClient()"
   ]
  },
  {
   "cell_type": "code",
   "execution_count": null,
   "id": "3e3f2e05-a65c-47a5-b7a7-1a4218b73926",
   "metadata": {},
   "outputs": [],
   "source": [
    "name = \"loan_approval\""
   ]
  },
  {
   "cell_type": "code",
   "execution_count": null,
   "id": "d30bb9d5-7e34-4ba5-84a9-09ea342836b4",
   "metadata": {},
   "outputs": [],
   "source": [
    "client.get_latest_versions(name)"
   ]
  },
  {
   "cell_type": "code",
   "execution_count": null,
   "id": "9bc0587a-782f-4aa6-b732-370ee9e48cca",
   "metadata": {},
   "outputs": [],
   "source": [
    "client.get_model_version(name, 4)"
   ]
  },
  {
   "cell_type": "code",
   "execution_count": null,
   "id": "2f27bdbb-f056-424e-b8c5-36a79945bbde",
   "metadata": {},
   "outputs": [],
   "source": [
    "client.get_model_version_download_uri(name, 4)"
   ]
  },
  {
   "cell_type": "code",
   "execution_count": null,
   "id": "9355b0da-db82-4599-928d-6c260f2c131e",
   "metadata": {},
   "outputs": [],
   "source": [
    "loaded_model.metadata.run_id"
   ]
  },
  {
   "cell_type": "code",
   "execution_count": null,
   "id": "d9a0aa1c-08ca-41f4-8d3c-a54cfa647b57",
   "metadata": {},
   "outputs": [],
   "source": [
    "model_info.model_uri"
   ]
  },
  {
   "cell_type": "code",
   "execution_count": null,
   "id": "11af56ef-c85e-4ca8-96bb-06480ffd1cac",
   "metadata": {},
   "outputs": [],
   "source": [
    "loaded_model"
   ]
  },
  {
   "cell_type": "code",
   "execution_count": null,
   "id": "4cfd185d-7337-4328-b8b2-ef895010b757",
   "metadata": {},
   "outputs": [],
   "source": [
    "client.get_registered_model(name)"
   ]
  },
  {
   "cell_type": "code",
   "execution_count": null,
   "id": "243365fc-e6d7-4562-bba9-b51488960154",
   "metadata": {},
   "outputs": [],
   "source": [
    "rm = client.get_registered_model(name)"
   ]
  },
  {
   "cell_type": "code",
   "execution_count": null,
   "id": "be39b64d-a78e-4453-90ea-f613f666e356",
   "metadata": {},
   "outputs": [],
   "source": [
    "rm.latest_versions[-1].run_id"
   ]
  },
  {
   "cell_type": "code",
   "execution_count": null,
   "id": "db0ae5a4-e516-46f2-9823-60ecb106b209",
   "metadata": {},
   "outputs": [],
   "source": []
  }
 ],
 "metadata": {
  "kernelspec": {
   "display_name": "Python 3",
   "language": "python",
   "name": "python3"
  },
  "language_info": {
   "codemirror_mode": {
    "name": "ipython",
    "version": 3
   },
   "file_extension": ".py",
   "mimetype": "text/x-python",
   "name": "python",
   "nbconvert_exporter": "python",
   "pygments_lexer": "ipython3",
   "version": "3.8.10"
  }
 },
 "nbformat": 4,
 "nbformat_minor": 5
}
