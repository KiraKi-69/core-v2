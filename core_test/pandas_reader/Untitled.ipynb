{
 "cells": [
  {
   "cell_type": "code",
   "execution_count": 3,
   "id": "2ffb0dc4-28be-44f1-a73f-bdce14b66863",
   "metadata": {},
   "outputs": [],
   "source": [
    "import boto3\n",
    "import os\n",
    "\n",
    "bucket_name = os.environ.get(\"S3_BUCKET\")\n",
    "project_s3_client = boto3.client(\"s3\", \n",
    "            endpoint_url=os.environ.get(\"FEAST_S3_ENDPOINT_URL\"),\n",
    "            aws_access_key_id=os.environ.get(\"AWS_ACCESS_KEY_ID\"),\n",
    "            aws_secret_access_key=os.environ.get(\"AWS_SECRET_ACCESS_KEY\")\n",
    ")\n"
   ]
  },
  {
   "cell_type": "code",
   "execution_count": 4,
   "id": "97da827b-75a4-41f0-a80e-f70436173fad",
   "metadata": {},
   "outputs": [],
   "source": [
    "project_s3_client.upload_file('model.py', bucket_name, 'model.py')"
   ]
  },
  {
   "cell_type": "code",
   "execution_count": null,
   "id": "7ba46d08-4670-40c0-8700-25adca538925",
   "metadata": {},
   "outputs": [],
   "source": [
    "\n",
    "for obj in bucket.objects.all():\n",
    "    key = obj.key\n",
    "    body = obj.get()['Body'].read()"
   ]
  }
 ],
 "metadata": {
  "kernelspec": {
   "display_name": "Python 3",
   "language": "python",
   "name": "python3"
  },
  "language_info": {
   "codemirror_mode": {
    "name": "ipython",
    "version": 3
   },
   "file_extension": ".py",
   "mimetype": "text/x-python",
   "name": "python",
   "nbconvert_exporter": "python",
   "pygments_lexer": "ipython3",
   "version": "3.8.10"
  }
 },
 "nbformat": 4,
 "nbformat_minor": 5
}
