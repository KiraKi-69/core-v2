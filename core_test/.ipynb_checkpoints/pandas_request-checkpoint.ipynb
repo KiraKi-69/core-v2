{
 "cells": [
  {
   "cell_type": "code",
   "execution_count": 2,
   "id": "f2f9e2c0-92d5-4c89-8f46-4f6e619bf01c",
   "metadata": {
    "collapsed": true,
    "jupyter": {
     "outputs_hidden": true
    },
    "tags": []
   },
   "outputs": [
    {
     "name": "stdout",
     "output_type": "stream",
     "text": [
      "Collecting mlserver\n",
      "  Using cached mlserver-1.3.5-py3-none-any.whl (113 kB)\n",
      "Collecting uvicorn\n",
      "  Downloading uvicorn-0.24.0.post1-py3-none-any.whl (59 kB)\n",
      "\u001b[K     |████████████████████████████████| 59 kB 1.6 MB/s eta 0:00:011\n",
      "\u001b[?25hCollecting aiofiles\n",
      "  Using cached aiofiles-23.2.1-py3-none-any.whl (15 kB)\n",
      "Collecting python-dotenv\n",
      "  Using cached python_dotenv-1.0.0-py3-none-any.whl (19 kB)\n",
      "Collecting grpcio\n",
      "  Downloading grpcio-1.59.3-cp38-cp38-manylinux_2_17_x86_64.manylinux2014_x86_64.whl (5.3 MB)\n",
      "\u001b[K     |████████████████████████████████| 5.3 MB 4.9 MB/s eta 0:00:01\n",
      "\u001b[?25hRequirement already satisfied: click in /opt/conda/lib/python3.8/site-packages (from mlserver) (8.1.3)\n",
      "Collecting uvloop\n",
      "  Downloading uvloop-0.19.0-cp38-cp38-manylinux_2_17_x86_64.manylinux2014_x86_64.whl (4.0 MB)\n",
      "\u001b[K     |████████████████████████████████| 4.0 MB 63.0 MB/s eta 0:00:01\n",
      "\u001b[?25hCollecting fastapi!=0.89.0,<=0.89.1,>=0.88.0\n",
      "  Using cached fastapi-0.89.1-py3-none-any.whl (55 kB)\n",
      "Requirement already satisfied: pandas in /opt/conda/lib/python3.8/site-packages (from mlserver) (1.2.4)\n",
      "Collecting py-grpc-prometheus\n",
      "  Using cached py_grpc_prometheus-0.7.0-py3-none-any.whl (12 kB)\n",
      "Collecting orjson\n",
      "  Downloading orjson-3.9.10-cp38-cp38-manylinux_2_17_x86_64.manylinux2014_x86_64.whl (138 kB)\n",
      "\u001b[K     |████████████████████████████████| 138 kB 54.9 MB/s eta 0:00:01\n",
      "\u001b[?25hCollecting aiokafka\n",
      "  Downloading aiokafka-0.9.0-cp38-cp38-manylinux_2_17_x86_64.manylinux2014_x86_64.whl (1.1 MB)\n",
      "\u001b[K     |████████████████████████████████| 1.1 MB 49.5 MB/s eta 0:00:01\n",
      "\u001b[?25hRequirement already satisfied: importlib-resources in /opt/conda/lib/python3.8/site-packages (from mlserver) (5.9.0)\n",
      "Requirement already satisfied: protobuf in /opt/conda/lib/python3.8/site-packages (from mlserver) (3.17.3)\n",
      "Collecting starlette-exporter\n",
      "  Downloading starlette_exporter-0.17.1-py3-none-any.whl (14 kB)\n",
      "Collecting tritonclient[http]>=2.24\n",
      "  Downloading tritonclient-2.40.0-py3-none-manylinux1_x86_64.whl (12.4 MB)\n",
      "\u001b[K     |████████████████████████████████| 12.4 MB 47.6 MB/s eta 0:00:01.6 MB/s eta 0:00:01\n",
      "\u001b[?25hRequirement already satisfied: numpy in /opt/conda/lib/python3.8/site-packages (from mlserver) (1.22.3)\n",
      "Collecting starlette==0.22.0\n",
      "  Using cached starlette-0.22.0-py3-none-any.whl (64 kB)\n",
      "Collecting pydantic!=1.7,!=1.7.1,!=1.7.2,!=1.7.3,!=1.8,!=1.8.1,<2.0.0,>=1.6.2\n",
      "  Using cached pydantic-1.10.13-cp38-cp38-manylinux_2_17_x86_64.manylinux2014_x86_64.whl (3.2 MB)\n",
      "Collecting anyio<5,>=3.4.0\n",
      "  Downloading anyio-4.1.0-py3-none-any.whl (83 kB)\n",
      "\u001b[K     |████████████████████████████████| 83 kB 281 kB/s  eta 0:00:01\n",
      "\u001b[?25hRequirement already satisfied: typing-extensions>=3.10.0 in /opt/conda/lib/python3.8/site-packages (from starlette==0.22.0->fastapi!=0.89.0,<=0.89.1,>=0.88.0->mlserver) (4.1.1)\n",
      "Collecting exceptiongroup>=1.0.2\n",
      "  Downloading exceptiongroup-1.2.0-py3-none-any.whl (16 kB)\n",
      "Requirement already satisfied: idna>=2.8 in /opt/conda/lib/python3.8/site-packages (from anyio<5,>=3.4.0->starlette==0.22.0->fastapi!=0.89.0,<=0.89.1,>=0.88.0->mlserver) (2.10)\n",
      "Requirement already satisfied: sniffio>=1.1 in /opt/conda/lib/python3.8/site-packages (from anyio<5,>=3.4.0->starlette==0.22.0->fastapi!=0.89.0,<=0.89.1,>=0.88.0->mlserver) (1.2.0)\n",
      "Collecting typing-extensions>=3.10.0\n",
      "  Using cached typing_extensions-4.8.0-py3-none-any.whl (31 kB)\n",
      "Collecting python-rapidjson>=0.9.1\n",
      "  Downloading python_rapidjson-1.13-cp38-cp38-manylinux_2_17_x86_64.manylinux2014_x86_64.whl (1.7 MB)\n",
      "\u001b[K     |████████████████████████████████| 1.7 MB 53.3 MB/s eta 0:00:01\n",
      "\u001b[?25hCollecting aiohttp<4.0.0,>=3.8.1\n",
      "  Downloading aiohttp-3.9.1-cp38-cp38-manylinux_2_17_x86_64.manylinux2014_x86_64.whl (1.3 MB)\n",
      "\u001b[K     |████████████████████████████████| 1.3 MB 51.5 MB/s eta 0:00:01\n",
      "\u001b[?25hCollecting geventhttpclient<=2.0.2,>=1.4.4\n",
      "  Using cached geventhttpclient-2.0.2-cp38-cp38-manylinux_2_5_x86_64.manylinux1_x86_64.manylinux_2_17_x86_64.manylinux2014_x86_64.whl (100 kB)\n",
      "Requirement already satisfied: attrs>=17.3.0 in /opt/conda/lib/python3.8/site-packages (from aiohttp<4.0.0,>=3.8.1->tritonclient[http]>=2.24->mlserver) (21.2.0)\n",
      "Collecting aiosignal>=1.1.2\n",
      "  Using cached aiosignal-1.3.1-py3-none-any.whl (7.6 kB)\n",
      "Collecting async-timeout<5.0,>=4.0\n",
      "  Using cached async_timeout-4.0.3-py3-none-any.whl (5.7 kB)\n",
      "Collecting yarl<2.0,>=1.0\n",
      "  Downloading yarl-1.9.4-cp38-cp38-manylinux_2_17_x86_64.manylinux2014_x86_64.whl (308 kB)\n",
      "\u001b[K     |████████████████████████████████| 308 kB 29.4 MB/s eta 0:00:01\n",
      "\u001b[?25hCollecting multidict<7.0,>=4.5\n",
      "  Using cached multidict-6.0.4-cp38-cp38-manylinux_2_17_x86_64.manylinux2014_x86_64.whl (121 kB)\n",
      "Collecting frozenlist>=1.1.1\n",
      "  Using cached frozenlist-1.4.0-cp38-cp38-manylinux_2_5_x86_64.manylinux1_x86_64.manylinux_2_17_x86_64.manylinux2014_x86_64.whl (220 kB)\n",
      "Collecting gevent>=0.13\n",
      "  Using cached gevent-23.9.1-cp38-cp38-manylinux_2_28_x86_64.whl (6.5 MB)\n",
      "Requirement already satisfied: six in /opt/conda/lib/python3.8/site-packages (from geventhttpclient<=2.0.2,>=1.4.4->tritonclient[http]>=2.24->mlserver) (1.16.0)\n",
      "Requirement already satisfied: certifi in /opt/conda/lib/python3.8/site-packages (from geventhttpclient<=2.0.2,>=1.4.4->tritonclient[http]>=2.24->mlserver) (2021.5.30)\n",
      "Collecting brotli\n",
      "  Using cached Brotli-1.1.0-cp38-cp38-manylinux_2_5_x86_64.manylinux1_x86_64.whl (2.8 MB)\n",
      "Collecting zope.interface\n",
      "  Using cached zope.interface-6.1-cp38-cp38-manylinux_2_5_x86_64.manylinux1_x86_64.manylinux_2_17_x86_64.manylinux2014_x86_64.whl (249 kB)\n",
      "Collecting greenlet>=2.0.0\n",
      "  Downloading greenlet-3.0.1-cp38-cp38-manylinux_2_24_x86_64.manylinux_2_28_x86_64.whl (618 kB)\n",
      "\u001b[K     |████████████████████████████████| 618 kB 36.2 MB/s eta 0:00:01\n",
      "\u001b[?25hCollecting zope.event\n",
      "  Using cached zope.event-5.0-py3-none-any.whl (6.8 kB)\n",
      "Requirement already satisfied: packaging in /opt/conda/lib/python3.8/site-packages (from aiokafka->mlserver) (20.9)\n",
      "Requirement already satisfied: zipp>=3.1.0 in /opt/conda/lib/python3.8/site-packages (from importlib-resources->mlserver) (3.8.1)\n",
      "Requirement already satisfied: pyparsing>=2.0.2 in /opt/conda/lib/python3.8/site-packages (from packaging->aiokafka->mlserver) (2.4.7)\n",
      "Requirement already satisfied: pytz>=2017.3 in /opt/conda/lib/python3.8/site-packages (from pandas->mlserver) (2021.1)\n",
      "Requirement already satisfied: python-dateutil>=2.7.3 in /opt/conda/lib/python3.8/site-packages (from pandas->mlserver) (2.8.1)\n",
      "Requirement already satisfied: prometheus-client>=0.3.0 in /opt/conda/lib/python3.8/site-packages (from py-grpc-prometheus->mlserver) (0.11.0)\n",
      "Requirement already satisfied: setuptools>=39.0.1 in /opt/conda/lib/python3.8/site-packages (from py-grpc-prometheus->mlserver) (49.6.0.post20210108)\n",
      "Collecting prometheus-client>=0.3.0\n",
      "  Downloading prometheus_client-0.19.0-py3-none-any.whl (54 kB)\n",
      "\u001b[K     |████████████████████████████████| 54 kB 1.7 MB/s  eta 0:00:01\n",
      "\u001b[?25hCollecting h11>=0.8\n",
      "  Using cached h11-0.14.0-py3-none-any.whl (58 kB)\n",
      "Installing collected packages: zope.interface, zope.event, multidict, greenlet, frozenlist, exceptiongroup, yarl, typing-extensions, python-rapidjson, gevent, brotli, async-timeout, anyio, aiosignal, tritonclient, starlette, pydantic, prometheus-client, h11, grpcio, geventhttpclient, aiohttp, uvloop, uvicorn, starlette-exporter, python-dotenv, py-grpc-prometheus, orjson, fastapi, aiokafka, aiofiles, mlserver\n",
      "  Attempting uninstall: greenlet\n",
      "    Found existing installation: greenlet 1.1.2\n",
      "    Uninstalling greenlet-1.1.2:\n",
      "      Successfully uninstalled greenlet-1.1.2\n",
      "  Attempting uninstall: typing-extensions\n",
      "    Found existing installation: typing-extensions 4.1.1\n",
      "    Uninstalling typing-extensions-4.1.1:\n",
      "      Successfully uninstalled typing-extensions-4.1.1\n",
      "  Attempting uninstall: anyio\n",
      "    Found existing installation: anyio 3.1.0\n",
      "    Uninstalling anyio-3.1.0:\n",
      "      Successfully uninstalled anyio-3.1.0\n",
      "  Attempting uninstall: prometheus-client\n",
      "    Found existing installation: prometheus-client 0.11.0\n",
      "    Uninstalling prometheus-client-0.11.0:\n",
      "      Successfully uninstalled prometheus-client-0.11.0\n",
      "\u001b[31mERROR: pip's dependency resolver does not currently take into account all the packages that are installed. This behaviour is the source of the following dependency conflicts.\n",
      "jupyter-server 1.8.0 requires anyio<4,>=3.1.0, but you have anyio 4.1.0 which is incompatible.\u001b[0m\n",
      "Successfully installed aiofiles-23.2.1 aiohttp-3.9.1 aiokafka-0.9.0 aiosignal-1.3.1 anyio-4.1.0 async-timeout-4.0.3 brotli-1.1.0 exceptiongroup-1.2.0 fastapi-0.89.1 frozenlist-1.4.0 gevent-23.9.1 geventhttpclient-2.0.2 greenlet-3.0.1 grpcio-1.59.3 h11-0.14.0 mlserver-1.3.5 multidict-6.0.4 orjson-3.9.10 prometheus-client-0.19.0 py-grpc-prometheus-0.7.0 pydantic-1.10.13 python-dotenv-1.0.0 python-rapidjson-1.13 starlette-0.22.0 starlette-exporter-0.17.1 tritonclient-2.40.0 typing-extensions-4.8.0 uvicorn-0.24.0.post1 uvloop-0.19.0 yarl-1.9.4 zope.event-5.0 zope.interface-6.1\n"
     ]
    }
   ],
   "source": [
    "!pip install mlserver"
   ]
  },
  {
   "cell_type": "code",
   "execution_count": 5,
   "id": "e47f7491-0e80-455b-969e-199193b6a9fd",
   "metadata": {},
   "outputs": [
    {
     "data": {
      "text/plain": [
       "{'parameters': {'content_type': 'pd'},\n",
       " 'inputs': [{'name': 'First Name',\n",
       "   'shape': [2, 1],\n",
       "   'datatype': 'BYTES',\n",
       "   'parameters': {'content_type': 'str'},\n",
       "   'data': [b'Joanne', b'Michael']},\n",
       "  {'name': 'Age', 'shape': [2, 1], 'datatype': 'INT64', 'data': [34, 22]}]}"
      ]
     },
     "execution_count": 5,
     "metadata": {},
     "output_type": "execute_result"
    }
   ],
   "source": [
    "import pandas as pd\n",
    "from mlserver.codecs import PandasCodec\n",
    "\n",
    "dataframe = pd.DataFrame({'First Name': [\"Joanne\", \"Michael\"], 'Age': [34, 22]})\n",
    "\n",
    "inference_request = PandasCodec.encode_request(dataframe)"
   ]
  },
  {
   "cell_type": "code",
   "execution_count": null,
   "id": "04419c6e-0a2b-4bf8-9280-a81302f2cb8e",
   "metadata": {},
   "outputs": [],
   "source": [
    "ext = \"localhost:8080/v2/models/foo/infer\"\n",
    "response = requests.post(ext, json=raw_request)"
   ]
  }
 ],
 "metadata": {
  "kernelspec": {
   "display_name": "Python 3",
   "language": "python",
   "name": "python3"
  },
  "language_info": {
   "codemirror_mode": {
    "name": "ipython",
    "version": 3
   },
   "file_extension": ".py",
   "mimetype": "text/x-python",
   "name": "python",
   "nbconvert_exporter": "python",
   "pygments_lexer": "ipython3",
   "version": "3.8.10"
  }
 },
 "nbformat": 4,
 "nbformat_minor": 5
}
