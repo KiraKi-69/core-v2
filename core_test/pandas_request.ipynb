{
 "cells": [
  {
   "cell_type": "code",
   "execution_count": 1,
   "id": "f2f9e2c0-92d5-4c89-8f46-4f6e619bf01c",
   "metadata": {
    "collapsed": true,
    "jupyter": {
     "outputs_hidden": true
    },
    "tags": []
   },
   "outputs": [
    {
     "name": "stdout",
     "output_type": "stream",
     "text": [
      "Collecting mlserver\n",
      "  Using cached mlserver-1.3.5-py3-none-any.whl (113 kB)\n",
      "Collecting aiokafka\n",
      "  Using cached aiokafka-0.9.0-cp38-cp38-manylinux_2_17_x86_64.manylinux2014_x86_64.whl (1.1 MB)\n",
      "Requirement already satisfied: pandas in /opt/conda/lib/python3.8/site-packages (from mlserver) (1.2.4)\n",
      "Collecting orjson\n",
      "  Using cached orjson-3.9.10-cp38-cp38-manylinux_2_17_x86_64.manylinux2014_x86_64.whl (138 kB)\n",
      "Collecting starlette-exporter\n",
      "  Using cached starlette_exporter-0.17.1-py3-none-any.whl (14 kB)\n",
      "Collecting python-dotenv\n",
      "  Using cached python_dotenv-1.0.0-py3-none-any.whl (19 kB)\n",
      "Requirement already satisfied: numpy in /opt/conda/lib/python3.8/site-packages (from mlserver) (1.22.3)\n",
      "Collecting tritonclient[http]>=2.24\n",
      "  Using cached tritonclient-2.40.0-py3-none-manylinux1_x86_64.whl (12.4 MB)\n",
      "Collecting aiofiles\n",
      "  Using cached aiofiles-23.2.1-py3-none-any.whl (15 kB)\n",
      "Collecting uvloop\n",
      "  Using cached uvloop-0.19.0-cp38-cp38-manylinux_2_17_x86_64.manylinux2014_x86_64.whl (4.0 MB)\n",
      "Collecting uvicorn\n",
      "  Using cached uvicorn-0.24.0.post1-py3-none-any.whl (59 kB)\n",
      "Collecting grpcio\n",
      "  Using cached grpcio-1.59.3-cp38-cp38-manylinux_2_17_x86_64.manylinux2014_x86_64.whl (5.3 MB)\n",
      "Collecting fastapi!=0.89.0,<=0.89.1,>=0.88.0\n",
      "  Using cached fastapi-0.89.1-py3-none-any.whl (55 kB)\n",
      "Requirement already satisfied: click in /opt/conda/lib/python3.8/site-packages (from mlserver) (8.1.3)\n",
      "Requirement already satisfied: importlib-resources in /opt/conda/lib/python3.8/site-packages (from mlserver) (5.9.0)\n",
      "Requirement already satisfied: protobuf in /opt/conda/lib/python3.8/site-packages (from mlserver) (3.17.3)\n",
      "Collecting py-grpc-prometheus\n",
      "  Using cached py_grpc_prometheus-0.7.0-py3-none-any.whl (12 kB)\n",
      "Collecting pydantic!=1.7,!=1.7.1,!=1.7.2,!=1.7.3,!=1.8,!=1.8.1,<2.0.0,>=1.6.2\n",
      "  Using cached pydantic-1.10.13-cp38-cp38-manylinux_2_17_x86_64.manylinux2014_x86_64.whl (3.2 MB)\n",
      "Collecting starlette==0.22.0\n",
      "  Using cached starlette-0.22.0-py3-none-any.whl (64 kB)\n",
      "Collecting anyio<5,>=3.4.0\n",
      "  Using cached anyio-4.1.0-py3-none-any.whl (83 kB)\n",
      "Requirement already satisfied: typing-extensions>=3.10.0 in /opt/conda/lib/python3.8/site-packages (from starlette==0.22.0->fastapi!=0.89.0,<=0.89.1,>=0.88.0->mlserver) (4.1.1)\n",
      "Requirement already satisfied: idna>=2.8 in /opt/conda/lib/python3.8/site-packages (from anyio<5,>=3.4.0->starlette==0.22.0->fastapi!=0.89.0,<=0.89.1,>=0.88.0->mlserver) (2.10)\n",
      "Collecting exceptiongroup>=1.0.2\n",
      "  Using cached exceptiongroup-1.2.0-py3-none-any.whl (16 kB)\n",
      "Requirement already satisfied: sniffio>=1.1 in /opt/conda/lib/python3.8/site-packages (from anyio<5,>=3.4.0->starlette==0.22.0->fastapi!=0.89.0,<=0.89.1,>=0.88.0->mlserver) (1.2.0)\n",
      "Collecting typing-extensions>=3.10.0\n",
      "  Using cached typing_extensions-4.8.0-py3-none-any.whl (31 kB)\n",
      "Collecting python-rapidjson>=0.9.1\n",
      "  Using cached python_rapidjson-1.13-cp38-cp38-manylinux_2_17_x86_64.manylinux2014_x86_64.whl (1.7 MB)\n",
      "Collecting geventhttpclient<=2.0.2,>=1.4.4\n",
      "  Using cached geventhttpclient-2.0.2-cp38-cp38-manylinux_2_5_x86_64.manylinux1_x86_64.manylinux_2_17_x86_64.manylinux2014_x86_64.whl (100 kB)\n",
      "Collecting aiohttp<4.0.0,>=3.8.1\n",
      "  Using cached aiohttp-3.9.1-cp38-cp38-manylinux_2_17_x86_64.manylinux2014_x86_64.whl (1.3 MB)\n",
      "Collecting frozenlist>=1.1.1\n",
      "  Using cached frozenlist-1.4.0-cp38-cp38-manylinux_2_5_x86_64.manylinux1_x86_64.manylinux_2_17_x86_64.manylinux2014_x86_64.whl (220 kB)\n",
      "Collecting multidict<7.0,>=4.5\n",
      "  Using cached multidict-6.0.4-cp38-cp38-manylinux_2_17_x86_64.manylinux2014_x86_64.whl (121 kB)\n",
      "Collecting async-timeout<5.0,>=4.0\n",
      "  Using cached async_timeout-4.0.3-py3-none-any.whl (5.7 kB)\n",
      "Requirement already satisfied: attrs>=17.3.0 in /opt/conda/lib/python3.8/site-packages (from aiohttp<4.0.0,>=3.8.1->tritonclient[http]>=2.24->mlserver) (21.2.0)\n",
      "Collecting yarl<2.0,>=1.0\n",
      "  Using cached yarl-1.9.4-cp38-cp38-manylinux_2_17_x86_64.manylinux2014_x86_64.whl (308 kB)\n",
      "Collecting aiosignal>=1.1.2\n",
      "  Using cached aiosignal-1.3.1-py3-none-any.whl (7.6 kB)\n",
      "Requirement already satisfied: six in /opt/conda/lib/python3.8/site-packages (from geventhttpclient<=2.0.2,>=1.4.4->tritonclient[http]>=2.24->mlserver) (1.16.0)\n",
      "Collecting gevent>=0.13\n",
      "  Using cached gevent-23.9.1-cp38-cp38-manylinux_2_28_x86_64.whl (6.5 MB)\n",
      "Requirement already satisfied: certifi in /opt/conda/lib/python3.8/site-packages (from geventhttpclient<=2.0.2,>=1.4.4->tritonclient[http]>=2.24->mlserver) (2021.5.30)\n",
      "Collecting brotli\n",
      "  Using cached Brotli-1.1.0-cp38-cp38-manylinux_2_5_x86_64.manylinux1_x86_64.whl (2.8 MB)\n",
      "Collecting zope.event\n",
      "  Using cached zope.event-5.0-py3-none-any.whl (6.8 kB)\n",
      "Collecting zope.interface\n",
      "  Using cached zope.interface-6.1-cp38-cp38-manylinux_2_5_x86_64.manylinux1_x86_64.manylinux_2_17_x86_64.manylinux2014_x86_64.whl (249 kB)\n",
      "Collecting greenlet>=2.0.0\n",
      "  Using cached greenlet-3.0.1-cp38-cp38-manylinux_2_24_x86_64.manylinux_2_28_x86_64.whl (618 kB)\n",
      "Requirement already satisfied: packaging in /opt/conda/lib/python3.8/site-packages (from aiokafka->mlserver) (20.9)\n",
      "Requirement already satisfied: zipp>=3.1.0 in /opt/conda/lib/python3.8/site-packages (from importlib-resources->mlserver) (3.8.1)\n",
      "Requirement already satisfied: pyparsing>=2.0.2 in /opt/conda/lib/python3.8/site-packages (from packaging->aiokafka->mlserver) (2.4.7)\n",
      "Requirement already satisfied: pytz>=2017.3 in /opt/conda/lib/python3.8/site-packages (from pandas->mlserver) (2021.1)\n",
      "Requirement already satisfied: python-dateutil>=2.7.3 in /opt/conda/lib/python3.8/site-packages (from pandas->mlserver) (2.8.1)\n",
      "Requirement already satisfied: prometheus-client>=0.3.0 in /opt/conda/lib/python3.8/site-packages (from py-grpc-prometheus->mlserver) (0.11.0)\n",
      "Requirement already satisfied: setuptools>=39.0.1 in /opt/conda/lib/python3.8/site-packages (from py-grpc-prometheus->mlserver) (49.6.0.post20210108)\n",
      "Collecting prometheus-client>=0.3.0\n",
      "  Using cached prometheus_client-0.19.0-py3-none-any.whl (54 kB)\n",
      "Collecting h11>=0.8\n",
      "  Using cached h11-0.14.0-py3-none-any.whl (58 kB)\n",
      "Installing collected packages: zope.interface, zope.event, multidict, greenlet, frozenlist, exceptiongroup, yarl, typing-extensions, python-rapidjson, gevent, brotli, async-timeout, anyio, aiosignal, tritonclient, starlette, pydantic, prometheus-client, h11, grpcio, geventhttpclient, aiohttp, uvloop, uvicorn, starlette-exporter, python-dotenv, py-grpc-prometheus, orjson, fastapi, aiokafka, aiofiles, mlserver\n",
      "  Attempting uninstall: greenlet\n",
      "    Found existing installation: greenlet 1.1.2\n",
      "    Uninstalling greenlet-1.1.2:\n",
      "      Successfully uninstalled greenlet-1.1.2\n",
      "  Attempting uninstall: typing-extensions\n",
      "    Found existing installation: typing-extensions 4.1.1\n",
      "    Uninstalling typing-extensions-4.1.1:\n",
      "      Successfully uninstalled typing-extensions-4.1.1\n",
      "  Attempting uninstall: anyio\n",
      "    Found existing installation: anyio 3.1.0\n",
      "    Uninstalling anyio-3.1.0:\n",
      "      Successfully uninstalled anyio-3.1.0\n",
      "  Attempting uninstall: prometheus-client\n",
      "    Found existing installation: prometheus-client 0.11.0\n",
      "    Uninstalling prometheus-client-0.11.0:\n",
      "      Successfully uninstalled prometheus-client-0.11.0\n",
      "\u001b[31mERROR: pip's dependency resolver does not currently take into account all the packages that are installed. This behaviour is the source of the following dependency conflicts.\n",
      "jupyter-server 1.8.0 requires anyio<4,>=3.1.0, but you have anyio 4.1.0 which is incompatible.\u001b[0m\n",
      "Successfully installed aiofiles-23.2.1 aiohttp-3.9.1 aiokafka-0.9.0 aiosignal-1.3.1 anyio-4.1.0 async-timeout-4.0.3 brotli-1.1.0 exceptiongroup-1.2.0 fastapi-0.89.1 frozenlist-1.4.0 gevent-23.9.1 geventhttpclient-2.0.2 greenlet-3.0.1 grpcio-1.59.3 h11-0.14.0 mlserver-1.3.5 multidict-6.0.4 orjson-3.9.10 prometheus-client-0.19.0 py-grpc-prometheus-0.7.0 pydantic-1.10.13 python-dotenv-1.0.0 python-rapidjson-1.13 starlette-0.22.0 starlette-exporter-0.17.1 tritonclient-2.40.0 typing-extensions-4.8.0 uvicorn-0.24.0.post1 uvloop-0.19.0 yarl-1.9.4 zope.event-5.0 zope.interface-6.1\n",
      "Collecting boto3\n",
      "  Using cached boto3-1.33.9-py3-none-any.whl (139 kB)\n",
      "Collecting botocore<1.34.0,>=1.33.9\n",
      "  Using cached botocore-1.33.9-py3-none-any.whl (11.8 MB)\n",
      "Collecting s3transfer<0.9.0,>=0.8.2\n",
      "  Using cached s3transfer-0.8.2-py3-none-any.whl (82 kB)\n",
      "Collecting jmespath<2.0.0,>=0.7.1\n",
      "  Using cached jmespath-1.0.1-py3-none-any.whl (20 kB)\n",
      "Requirement already satisfied: urllib3<1.27,>=1.25.4 in /opt/conda/lib/python3.8/site-packages (from botocore<1.34.0,>=1.33.9->boto3) (1.26.5)\n",
      "Requirement already satisfied: python-dateutil<3.0.0,>=2.1 in /opt/conda/lib/python3.8/site-packages (from botocore<1.34.0,>=1.33.9->boto3) (2.8.1)\n",
      "Requirement already satisfied: six>=1.5 in /opt/conda/lib/python3.8/site-packages (from python-dateutil<3.0.0,>=2.1->botocore<1.34.0,>=1.33.9->boto3) (1.16.0)\n",
      "Installing collected packages: jmespath, botocore, s3transfer, boto3\n",
      "Successfully installed boto3-1.33.9 botocore-1.33.9 jmespath-1.0.1 s3transfer-0.8.2\n"
     ]
    }
   ],
   "source": [
    "!pip install mlserver\n",
    "!pip install boto3"
   ]
  },
  {
   "cell_type": "code",
   "execution_count": 47,
   "id": "e47f7491-0e80-455b-969e-199193b6a9fd",
   "metadata": {},
   "outputs": [],
   "source": [
    "import pandas as pd\n",
    "import requests\n",
    "import json\n",
    "from mlserver.codecs import PandasCodec"
   ]
  },
  {
   "cell_type": "code",
   "execution_count": 49,
   "id": "4c8b6a6d-b620-4325-9c35-3cf840ae8a97",
   "metadata": {},
   "outputs": [],
   "source": [
    "dataframe = pd.DataFrame({\n",
    "    'First Name': [\"Joanne\", \"Michael\"], \n",
    "    'Age': [34, 22], \n",
    "    'Deal': [\n",
    "        {'arg1': 0, 'arg2': [1, 2]}, \n",
    "        {'arg1': 10, 'arg2': [10, 20]}\n",
    "    ]\n",
    "})\n",
    "\n",
    "inference_request = PandasCodec.encode_request(dataframe)"
   ]
  },
  {
   "cell_type": "code",
   "execution_count": 50,
   "id": "31015ae7-c3a6-4b07-a42e-aa59b39eae29",
   "metadata": {},
   "outputs": [
    {
     "data": {
      "text/plain": [
       "InferenceRequest(id=None, parameters=Parameters(content_type='pd', headers=None), inputs=[RequestInput(name='First Name', shape=[2, 1], datatype='BYTES', parameters=Parameters(content_type='str', headers=None), data=TensorData(__root__=[b'Joanne', b'Michael'])), RequestInput(name='Age', shape=[2, 1], datatype='INT64', parameters=None, data=TensorData(__root__=[34, 22])), RequestInput(name='Deal', shape=[2, 1], datatype='BYTES', parameters=None, data=TensorData(__root__=[{'arg1': 0, 'arg2': [1, 2]}, {'arg1': 10, 'arg2': [10, 20]}]))], outputs=None)"
      ]
     },
     "execution_count": 50,
     "metadata": {},
     "output_type": "execute_result"
    }
   ],
   "source": [
    "inference_request"
   ]
  },
  {
   "cell_type": "code",
   "execution_count": 51,
   "id": "3c8d82aa-cc41-4bff-8444-b8e4bc5ff865",
   "metadata": {},
   "outputs": [
    {
     "data": {
      "text/plain": [
       "{'parameters': {'content_type': 'pd'},\n",
       " 'inputs': [{'name': 'First Name',\n",
       "   'shape': [2, 1],\n",
       "   'datatype': 'BYTES',\n",
       "   'parameters': {'content_type': 'str'},\n",
       "   'data': ['Joanne', 'Michael']},\n",
       "  {'name': 'Age', 'shape': [2, 1], 'datatype': 'INT64', 'data': [34, 22]},\n",
       "  {'name': 'Deal',\n",
       "   'shape': [2, 1],\n",
       "   'datatype': 'BYTES',\n",
       "   'data': [{'arg1': 0, 'arg2': [1, 2]}, {'arg1': 10, 'arg2': [10, 20]}]}]}"
      ]
     },
     "execution_count": 51,
     "metadata": {},
     "output_type": "execute_result"
    }
   ],
   "source": [
    "raw_request = inference_request.json()\n",
    "raw_request = eval(raw_request)\n",
    "raw_request"
   ]
  },
  {
   "cell_type": "code",
   "execution_count": 52,
   "id": "04419c6e-0a2b-4bf8-9280-a81302f2cb8e",
   "metadata": {},
   "outputs": [],
   "source": [
    "ext = \"http://mlserver-120-0.seldon-mesh.svc:9000/v2/models/pandas-reader-v6_1/infer\"\n",
    "response = requests.post(ext, json=raw_request)"
   ]
  },
  {
   "cell_type": "code",
   "execution_count": 53,
   "id": "5e8506b8-b80e-4d2f-a672-9ed5668f7a2a",
   "metadata": {},
   "outputs": [
    {
     "name": "stdout",
     "output_type": "stream",
     "text": [
      "{\n",
      "  \"model_name\": \"pandas-reader-v6_1\",\n",
      "  \"model_version\": \"1\",\n",
      "  \"id\": \"873556a8-6d4c-4880-bee6-a05344af5ad4\",\n",
      "  \"parameters\": {\n",
      "    \"content_type\": null,\n",
      "    \"headers\": null\n",
      "  },\n",
      "  \"outputs\": [\n",
      "    {\n",
      "      \"name\": \"First Name\",\n",
      "      \"shape\": [\n",
      "        2,\n",
      "        1\n",
      "      ],\n",
      "      \"datatype\": \"BYTES\",\n",
      "      \"parameters\": null,\n",
      "      \"data\": [\n",
      "        \"Joanne\",\n",
      "        \"Michael\"\n",
      "      ]\n",
      "    },\n",
      "    {\n",
      "      \"name\": \"Age\",\n",
      "      \"shape\": [\n",
      "        2,\n",
      "        1\n",
      "      ],\n",
      "      \"datatype\": \"INT64\",\n",
      "      \"parameters\": null,\n",
      "      \"data\": [\n",
      "        34,\n",
      "        22\n",
      "      ]\n",
      "    },\n",
      "    {\n",
      "      \"name\": \"Deal\",\n",
      "      \"shape\": [\n",
      "        2,\n",
      "        1\n",
      "      ],\n",
      "      \"datatype\": \"BYTES\",\n",
      "      \"parameters\": null,\n",
      "      \"data\": [\n",
      "        {\n",
      "          \"arg1\": 0,\n",
      "          \"arg2\": [\n",
      "            1,\n",
      "            2\n",
      "          ]\n",
      "        },\n",
      "        {\n",
      "          \"arg1\": 10,\n",
      "          \"arg2\": [\n",
      "            10,\n",
      "            20\n",
      "          ]\n",
      "        }\n",
      "      ]\n",
      "    },\n",
      "    {\n",
      "      \"name\": \"status\",\n",
      "      \"shape\": [\n",
      "        2,\n",
      "        1\n",
      "      ],\n",
      "      \"datatype\": \"BYTES\",\n",
      "      \"parameters\": null,\n",
      "      \"data\": [\n",
      "        \"row satisfied \",\n",
      "        \"row satisfied \"\n",
      "      ]\n",
      "    }\n",
      "  ]\n",
      "}\n"
     ]
    }
   ],
   "source": [
    "print(json.dumps(response.json(), indent=2))"
   ]
  },
  {
   "cell_type": "markdown",
   "id": "b269a1e4-6968-4b37-a1cc-7b19c3e24c74",
   "metadata": {},
   "source": [
    "Загрузка файла модели в s3"
   ]
  },
  {
   "cell_type": "code",
   "execution_count": 20,
   "id": "4f01bd2b-24b2-480e-9530-a2961b7890e8",
   "metadata": {},
   "outputs": [
    {
     "data": {
      "text/plain": [
       "'app-cor'"
      ]
     },
     "execution_count": 20,
     "metadata": {},
     "output_type": "execute_result"
    }
   ],
   "source": [
    "import os\n",
    "os.environ['KUBERNETES_S3_BUCKET']"
   ]
  },
  {
   "cell_type": "code",
   "execution_count": 23,
   "id": "de322b8e-a009-4305-b1fd-8088c10fbff6",
   "metadata": {},
   "outputs": [],
   "source": [
    "import boto3\n",
    "\n",
    "bucket_name = os.environ.get(\"S3_BUCKET\")\n",
    "project_s3_client = boto3.client(\"s3\", \n",
    "            endpoint_url=os.environ.get(\"FEAST_S3_ENDPOINT_URL\"),\n",
    "            aws_access_key_id=os.environ.get(\"AWS_ACCESS_KEY_ID\"),\n",
    "            aws_secret_access_key=os.environ.get(\"AWS_SECRET_ACCESS_KEY\")\n",
    ")\n"
   ]
  },
  {
   "cell_type": "code",
   "execution_count": 24,
   "id": "1efb9702-1452-4cf0-9d5c-e49864a704a7",
   "metadata": {},
   "outputs": [],
   "source": [
    "r = project_s3_client.upload_file('pandas_reader/model.py', bucket_name, 'pandas_reader/model.py')"
   ]
  },
  {
   "cell_type": "code",
   "execution_count": 37,
   "id": "75c28146-2171-40ac-b984-ba8121750b92",
   "metadata": {},
   "outputs": [],
   "source": [
    "r"
   ]
  },
  {
   "cell_type": "markdown",
   "id": "c0b38962-c513-413c-86b8-47ca75be89ab",
   "metadata": {},
   "source": [
    "app-cor/pandas_reader/model.py"
   ]
  },
  {
   "cell_type": "code",
   "execution_count": null,
   "id": "39ae71e4-8adc-463c-8d33-f27ee754ec39",
   "metadata": {},
   "outputs": [],
   "source": []
  }
 ],
 "metadata": {
  "kernelspec": {
   "display_name": "Python 3",
   "language": "python",
   "name": "python3"
  },
  "language_info": {
   "codemirror_mode": {
    "name": "ipython",
    "version": 3
   },
   "file_extension": ".py",
   "mimetype": "text/x-python",
   "name": "python",
   "nbconvert_exporter": "python",
   "pygments_lexer": "ipython3",
   "version": "3.8.10"
  }
 },
 "nbformat": 4,
 "nbformat_minor": 5
}
