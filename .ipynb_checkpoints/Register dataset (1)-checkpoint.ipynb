{
 "cells": [
  {
   "cell_type": "code",
   "execution_count": 1,
   "id": "c017c3e4-8443-400c-b103-5263438d0bce",
   "metadata": {
    "collapsed": true,
    "jupyter": {
     "outputs_hidden": true
    },
    "tags": []
   },
   "outputs": [
    {
     "name": "stdout",
     "output_type": "stream",
     "text": [
      "Requirement already satisfied: feast[cassandra]==0.26 in /opt/conda/lib/python3.8/site-packages (0.26.0)\n",
      "Requirement already satisfied: mmh3 in /opt/conda/lib/python3.8/site-packages (from feast[cassandra]==0.26) (4.0.1)\n",
      "Requirement already satisfied: uvicorn[standard]<1,>=0.14.0 in /opt/conda/lib/python3.8/site-packages (from feast[cassandra]==0.26) (0.23.2)\n",
      "Requirement already satisfied: toml<1,>=0.10.0 in /opt/conda/lib/python3.8/site-packages (from feast[cassandra]==0.26) (0.10.2)\n",
      "Requirement already satisfied: pydantic<2,>=1 in /opt/conda/lib/python3.8/site-packages (from feast[cassandra]==0.26) (1.10.2)\n",
      "Requirement already satisfied: grpcio<2,>=1.47.0 in /opt/conda/lib/python3.8/site-packages (from feast[cassandra]==0.26) (1.59.0)\n",
      "Requirement already satisfied: pandavro==1.5.* in /opt/conda/lib/python3.8/site-packages (from feast[cassandra]==0.26) (1.5.2)\n",
      "Requirement already satisfied: proto-plus<2,>=1.20.0 in /opt/conda/lib/python3.8/site-packages (from feast[cassandra]==0.26) (1.22.3)\n",
      "Requirement already satisfied: tenacity<9,>=7 in /opt/conda/lib/python3.8/site-packages (from feast[cassandra]==0.26) (8.2.3)\n",
      "Requirement already satisfied: grpcio-reflection<2,>=1.47.0 in /opt/conda/lib/python3.8/site-packages (from feast[cassandra]==0.26) (1.59.0)\n",
      "Requirement already satisfied: pandas<2,>=1.4.3 in /opt/conda/lib/python3.8/site-packages (from feast[cassandra]==0.26) (1.5.3)\n",
      "Requirement already satisfied: dill==0.3.* in /opt/conda/lib/python3.8/site-packages (from feast[cassandra]==0.26) (0.3.4)\n",
      "Requirement already satisfied: protobuf<5,>3 in /opt/conda/lib/python3.8/site-packages (from feast[cassandra]==0.26) (4.24.4)\n",
      "Requirement already satisfied: Jinja2<4,>=2 in /opt/conda/lib/python3.8/site-packages (from feast[cassandra]==0.26) (3.0.1)\n",
      "Requirement already satisfied: dask<2022.02.0,>=2021.* in /opt/conda/lib/python3.8/site-packages (from feast[cassandra]==0.26) (2021.6.1)\n",
      "Requirement already satisfied: fastapi<1,>=0.68.0 in /opt/conda/lib/python3.8/site-packages (from feast[cassandra]==0.26) (0.89.1)\n",
      "Requirement already satisfied: tabulate<1,>=0.8.0 in /opt/conda/lib/python3.8/site-packages (from feast[cassandra]==0.26) (0.8.9)\n",
      "Requirement already satisfied: tqdm<5,>=4 in /opt/conda/lib/python3.8/site-packages (from feast[cassandra]==0.26) (4.61.0)\n",
      "Requirement already satisfied: google-api-core<3,>=1.23.0 in /opt/conda/lib/python3.8/site-packages (from feast[cassandra]==0.26) (2.7.1)\n",
      "Requirement already satisfied: numpy<3,>=1.22 in /opt/conda/lib/python3.8/site-packages (from feast[cassandra]==0.26) (1.22.3)\n",
      "Requirement already satisfied: jsonschema in /opt/conda/lib/python3.8/site-packages (from feast[cassandra]==0.26) (3.2.0)\n",
      "Requirement already satisfied: colorama<1,>=0.3.9 in /opt/conda/lib/python3.8/site-packages (from feast[cassandra]==0.26) (0.4.4)\n",
      "Requirement already satisfied: googleapis-common-protos<2,>=1.52.* in /opt/conda/lib/python3.8/site-packages (from feast[cassandra]==0.26) (1.55.0)\n",
      "Requirement already satisfied: pyarrow<9,>=4 in /opt/conda/lib/python3.8/site-packages (from feast[cassandra]==0.26) (8.0.0)\n",
      "Requirement already satisfied: SQLAlchemy[mypy]<2,>1 in /opt/conda/lib/python3.8/site-packages (from feast[cassandra]==0.26) (1.4.18)\n",
      "Requirement already satisfied: typeguard in /opt/conda/lib/python3.8/site-packages (from feast[cassandra]==0.26) (4.1.5)\n",
      "Requirement already satisfied: PyYAML<7,>=5.4.* in /opt/conda/lib/python3.8/site-packages (from feast[cassandra]==0.26) (5.4.1)\n",
      "Requirement already satisfied: bowler in /opt/conda/lib/python3.8/site-packages (from feast[cassandra]==0.26) (0.9.0)\n",
      "Requirement already satisfied: fastavro<2,>=1.1.0 in /opt/conda/lib/python3.8/site-packages (from feast[cassandra]==0.26) (1.8.4)\n",
      "Requirement already satisfied: pygments<3,>=2.12.0 in /opt/conda/lib/python3.8/site-packages (from feast[cassandra]==0.26) (2.16.1)\n",
      "Requirement already satisfied: click<9.0.0,>=7.0.0 in /opt/conda/lib/python3.8/site-packages (from feast[cassandra]==0.26) (8.1.3)\n",
      "Requirement already satisfied: cassandra-driver<4,>=3.24.0 in /opt/conda/lib/python3.8/site-packages (from feast[cassandra]==0.26) (3.28.0)\n",
      "Requirement already satisfied: six>=1.9 in /opt/conda/lib/python3.8/site-packages (from pandavro==1.5.*->feast[cassandra]==0.26) (1.16.0)\n",
      "Requirement already satisfied: geomet<0.3,>=0.1 in /opt/conda/lib/python3.8/site-packages (from cassandra-driver<4,>=3.24.0->feast[cassandra]==0.26) (0.2.1.post1)\n",
      "Requirement already satisfied: cloudpickle>=1.1.1 in /opt/conda/lib/python3.8/site-packages (from dask<2022.02.0,>=2021.*->feast[cassandra]==0.26) (2.2.0)\n",
      "Requirement already satisfied: partd>=0.3.10 in /opt/conda/lib/python3.8/site-packages (from dask<2022.02.0,>=2021.*->feast[cassandra]==0.26) (1.2.0)\n",
      "Requirement already satisfied: toolz>=0.8.2 in /opt/conda/lib/python3.8/site-packages (from dask<2022.02.0,>=2021.*->feast[cassandra]==0.26) (0.11.2)\n",
      "Requirement already satisfied: fsspec>=0.6.0 in /opt/conda/lib/python3.8/site-packages (from dask<2022.02.0,>=2021.*->feast[cassandra]==0.26) (2022.2.0)\n",
      "Requirement already satisfied: starlette==0.22.0 in /opt/conda/lib/python3.8/site-packages (from fastapi<1,>=0.68.0->feast[cassandra]==0.26) (0.22.0)\n",
      "Requirement already satisfied: typing-extensions>=3.10.0 in /opt/conda/lib/python3.8/site-packages (from starlette==0.22.0->fastapi<1,>=0.68.0->feast[cassandra]==0.26) (4.8.0)\n",
      "Requirement already satisfied: anyio<5,>=3.4.0 in /opt/conda/lib/python3.8/site-packages (from starlette==0.22.0->fastapi<1,>=0.68.0->feast[cassandra]==0.26) (4.0.0)\n",
      "Requirement already satisfied: idna>=2.8 in /opt/conda/lib/python3.8/site-packages (from anyio<5,>=3.4.0->starlette==0.22.0->fastapi<1,>=0.68.0->feast[cassandra]==0.26) (2.10)\n",
      "Requirement already satisfied: sniffio>=1.1 in /opt/conda/lib/python3.8/site-packages (from anyio<5,>=3.4.0->starlette==0.22.0->fastapi<1,>=0.68.0->feast[cassandra]==0.26) (1.2.0)\n",
      "Requirement already satisfied: exceptiongroup>=1.0.2 in /opt/conda/lib/python3.8/site-packages (from anyio<5,>=3.4.0->starlette==0.22.0->fastapi<1,>=0.68.0->feast[cassandra]==0.26) (1.1.3)\n",
      "Requirement already satisfied: google-auth<3.0dev,>=1.25.0 in /opt/conda/lib/python3.8/site-packages (from google-api-core<3,>=1.23.0->feast[cassandra]==0.26) (1.35.0)\n",
      "Requirement already satisfied: requests<3.0.0dev,>=2.18.0 in /opt/conda/lib/python3.8/site-packages (from google-api-core<3,>=1.23.0->feast[cassandra]==0.26) (2.25.1)\n",
      "Requirement already satisfied: pyasn1-modules>=0.2.1 in /opt/conda/lib/python3.8/site-packages (from google-auth<3.0dev,>=1.25.0->google-api-core<3,>=1.23.0->feast[cassandra]==0.26) (0.2.8)\n",
      "Requirement already satisfied: setuptools>=40.3.0 in /opt/conda/lib/python3.8/site-packages (from google-auth<3.0dev,>=1.25.0->google-api-core<3,>=1.23.0->feast[cassandra]==0.26) (49.6.0.post20210108)\n",
      "Requirement already satisfied: cachetools<5.0,>=2.0.0 in /opt/conda/lib/python3.8/site-packages (from google-auth<3.0dev,>=1.25.0->google-api-core<3,>=1.23.0->feast[cassandra]==0.26) (4.2.4)\n",
      "Requirement already satisfied: rsa<5,>=3.1.4 in /opt/conda/lib/python3.8/site-packages (from google-auth<3.0dev,>=1.25.0->google-api-core<3,>=1.23.0->feast[cassandra]==0.26) (4.8)\n",
      "Requirement already satisfied: MarkupSafe>=2.0 in /opt/conda/lib/python3.8/site-packages (from Jinja2<4,>=2->feast[cassandra]==0.26) (2.1.1)\n",
      "Requirement already satisfied: pytz>=2020.1 in /opt/conda/lib/python3.8/site-packages (from pandas<2,>=1.4.3->feast[cassandra]==0.26) (2021.1)\n",
      "Requirement already satisfied: python-dateutil>=2.8.1 in /opt/conda/lib/python3.8/site-packages (from pandas<2,>=1.4.3->feast[cassandra]==0.26) (2.8.1)\n",
      "Requirement already satisfied: locket in /opt/conda/lib/python3.8/site-packages (from partd>=0.3.10->dask<2022.02.0,>=2021.*->feast[cassandra]==0.26) (0.2.1)\n",
      "Requirement already satisfied: pyasn1<0.5.0,>=0.4.6 in /opt/conda/lib/python3.8/site-packages (from pyasn1-modules>=0.2.1->google-auth<3.0dev,>=1.25.0->google-api-core<3,>=1.23.0->feast[cassandra]==0.26) (0.4.8)\n",
      "Requirement already satisfied: certifi>=2017.4.17 in /opt/conda/lib/python3.8/site-packages (from requests<3.0.0dev,>=2.18.0->google-api-core<3,>=1.23.0->feast[cassandra]==0.26) (2021.5.30)\n",
      "Requirement already satisfied: chardet<5,>=3.0.2 in /opt/conda/lib/python3.8/site-packages (from requests<3.0.0dev,>=2.18.0->google-api-core<3,>=1.23.0->feast[cassandra]==0.26) (4.0.0)\n",
      "Requirement already satisfied: urllib3<1.27,>=1.21.1 in /opt/conda/lib/python3.8/site-packages (from requests<3.0.0dev,>=2.18.0->google-api-core<3,>=1.23.0->feast[cassandra]==0.26) (1.26.5)\n",
      "Requirement already satisfied: greenlet!=0.4.17 in /opt/conda/lib/python3.8/site-packages (from SQLAlchemy[mypy]<2,>1->feast[cassandra]==0.26) (3.0.0)\n",
      "Requirement already satisfied: mypy>=0.800 in /opt/conda/lib/python3.8/site-packages (from SQLAlchemy[mypy]<2,>1->feast[cassandra]==0.26) (1.6.1)\n",
      "Requirement already satisfied: sqlalchemy2-stubs in /opt/conda/lib/python3.8/site-packages (from SQLAlchemy[mypy]<2,>1->feast[cassandra]==0.26) (0.0.2a35)\n",
      "Requirement already satisfied: mypy-extensions>=1.0.0 in /opt/conda/lib/python3.8/site-packages (from mypy>=0.800->SQLAlchemy[mypy]<2,>1->feast[cassandra]==0.26) (1.0.0)\n",
      "Requirement already satisfied: tomli>=1.1.0 in /opt/conda/lib/python3.8/site-packages (from mypy>=0.800->SQLAlchemy[mypy]<2,>1->feast[cassandra]==0.26) (2.0.1)\n",
      "Requirement already satisfied: h11>=0.8 in /opt/conda/lib/python3.8/site-packages (from uvicorn[standard]<1,>=0.14.0->feast[cassandra]==0.26) (0.14.0)\n",
      "Requirement already satisfied: watchfiles>=0.13 in /opt/conda/lib/python3.8/site-packages (from uvicorn[standard]<1,>=0.14.0->feast[cassandra]==0.26) (0.21.0)\n",
      "Requirement already satisfied: websockets>=10.4 in /opt/conda/lib/python3.8/site-packages (from uvicorn[standard]<1,>=0.14.0->feast[cassandra]==0.26) (11.0.3)\n",
      "Requirement already satisfied: httptools>=0.5.0 in /opt/conda/lib/python3.8/site-packages (from uvicorn[standard]<1,>=0.14.0->feast[cassandra]==0.26) (0.6.1)\n",
      "Requirement already satisfied: uvloop!=0.15.0,!=0.15.1,>=0.14.0 in /opt/conda/lib/python3.8/site-packages (from uvicorn[standard]<1,>=0.14.0->feast[cassandra]==0.26) (0.18.0)\n",
      "Requirement already satisfied: python-dotenv>=0.13 in /opt/conda/lib/python3.8/site-packages (from uvicorn[standard]<1,>=0.14.0->feast[cassandra]==0.26) (1.0.0)\n",
      "^C\n",
      "\u001b[31mERROR: Operation cancelled by user\u001b[0m\n",
      "Note: you may need to restart the kernel to use updated packages.\n",
      "Requirement already satisfied: psycopg2-binary in /opt/conda/lib/python3.8/site-packages (2.9.9)\n",
      "Note: you may need to restart the kernel to use updated packages.\n"
     ]
    }
   ],
   "source": [
    "%pip install feast[cassandra]==0.26\n",
    "%pip install psycopg2-binary"
   ]
  },
  {
   "cell_type": "code",
   "execution_count": 2,
   "id": "1c51c374-1876-42c4-ab9f-566189fd5f57",
   "metadata": {
    "tags": []
   },
   "outputs": [
    {
     "name": "stderr",
     "output_type": "stream",
     "text": [
      "/opt/conda/lib/python3.8/site-packages/dask/dataframe/backends.py:187: FutureWarning: pandas.Int64Index is deprecated and will be removed from pandas in a future version. Use pandas.Index with the appropriate dtype instead.\n",
      "  _numeric_index_types = (pd.Int64Index, pd.Float64Index, pd.UInt64Index)\n",
      "/opt/conda/lib/python3.8/site-packages/dask/dataframe/backends.py:187: FutureWarning: pandas.Float64Index is deprecated and will be removed from pandas in a future version. Use pandas.Index with the appropriate dtype instead.\n",
      "  _numeric_index_types = (pd.Int64Index, pd.Float64Index, pd.UInt64Index)\n",
      "/opt/conda/lib/python3.8/site-packages/dask/dataframe/backends.py:187: FutureWarning: pandas.UInt64Index is deprecated and will be removed from pandas in a future version. Use pandas.Index with the appropriate dtype instead.\n",
      "  _numeric_index_types = (pd.Int64Index, pd.Float64Index, pd.UInt64Index)\n"
     ]
    }
   ],
   "source": [
    "from feast import FeatureStore\n",
    "store = FeatureStore(repo_path=\".\")"
   ]
  },
  {
   "cell_type": "code",
   "execution_count": 3,
   "id": "4f275d80-a76f-4a83-afac-8cbafff81e2e",
   "metadata": {},
   "outputs": [
    {
     "name": "stderr",
     "output_type": "stream",
     "text": [
      "/opt/conda/lib/python3.8/site-packages/ipykernel/ipkernel.py:283: DeprecationWarning: `should_run_async` will not call `transform_cell` automatically in the future. Please pass the result to `transformed_cell` argument and any exception that happen during thetransform in `preprocessing_exc_tuple` in IPython 7.17 and above.\n",
      "  and should_run_async(code)\n"
     ]
    }
   ],
   "source": [
    "# !feast apply"
   ]
  },
  {
   "cell_type": "code",
   "execution_count": 4,
   "id": "179597cf-84a7-4d8a-8834-e661eb4819a1",
   "metadata": {},
   "outputs": [],
   "source": [
    "import pandas as pd"
   ]
  },
  {
   "cell_type": "code",
   "execution_count": 5,
   "id": "cedfbe09-6d72-459e-b2f2-f720728dad71",
   "metadata": {},
   "outputs": [],
   "source": [
    "loans = pd.read_parquet(\"loan_table.parquet\")"
   ]
  },
  {
   "cell_type": "code",
   "execution_count": 6,
   "id": "97420bf0-7958-4f1c-ae18-d988b065ec83",
   "metadata": {},
   "outputs": [
    {
     "name": "stderr",
     "output_type": "stream",
     "text": [
      "/opt/conda/lib/python3.8/site-packages/ipykernel/ipkernel.py:283: DeprecationWarning: `should_run_async` will not call `transform_cell` automatically in the future. Please pass the result to `transformed_cell` argument and any exception that happen during thetransform in `preprocessing_exc_tuple` in IPython 7.17 and above.\n",
      "  and should_run_async(code)\n"
     ]
    }
   ],
   "source": [
    "loan_times = loans[[\"loan_id\", \"event_timestamp\", \"created_timestamp\"]]"
   ]
  },
  {
   "cell_type": "code",
   "execution_count": 7,
   "id": "3b615f11-e08f-43c0-960b-01016f14f171",
   "metadata": {},
   "outputs": [
    {
     "name": "stderr",
     "output_type": "stream",
     "text": [
      "/opt/conda/lib/python3.8/site-packages/ipykernel/ipkernel.py:283: DeprecationWarning: `should_run_async` will not call `transform_cell` automatically in the future. Please pass the result to `transformed_cell` argument and any exception that happen during thetransform in `preprocessing_exc_tuple` in IPython 7.17 and above.\n",
      "  and should_run_async(code)\n"
     ]
    }
   ],
   "source": [
    "parquet_name = \"loan_approval_baseline.parquet\"\n",
    "dataset_name = \"loan_approval_baseline\"\n",
    "\n",
    "# parquet_name = \"loan_approval_2022q3.parquet\"\n",
    "# dataset_name = \"loan_approval_2022q3_m1\"\n",
    "\n",
    "# parquet_name = \"loan_approval_2022q4.parquet\"\n",
    "# dataset_name = \"loan_approval_2022q4_m1\""
   ]
  },
  {
   "cell_type": "code",
   "execution_count": 8,
   "id": "efe48ef3-cf10-4320-8de9-1b92b2bb1611",
   "metadata": {},
   "outputs": [],
   "source": [
    "q3 = pd.read_parquet(parquet_name)[loans.columns]"
   ]
  },
  {
   "cell_type": "code",
   "execution_count": 9,
   "id": "fcc359f2-4a40-4c97-a85c-40c266efd9f6",
   "metadata": {},
   "outputs": [
    {
     "name": "stderr",
     "output_type": "stream",
     "text": [
      "/opt/conda/lib/python3.8/site-packages/ipykernel/ipkernel.py:283: DeprecationWarning: `should_run_async` will not call `transform_cell` automatically in the future. Please pass the result to `transformed_cell` argument and any exception that happen during thetransform in `preprocessing_exc_tuple` in IPython 7.17 and above.\n",
      "  and should_run_async(code)\n"
     ]
    }
   ],
   "source": [
    "q3_without_time = q3[['loan_id', 'dob_ssn', 'zipcode', 'person_age', 'person_income',\n",
    "       'person_home_ownership', 'person_emp_length', 'loan_intent',\n",
    "       'loan_amnt', 'loan_int_rate', 'loan_status']]"
   ]
  },
  {
   "cell_type": "code",
   "execution_count": 10,
   "id": "43462f80-48c4-449f-bb4b-d45cdf49bab9",
   "metadata": {},
   "outputs": [
    {
     "name": "stderr",
     "output_type": "stream",
     "text": [
      "/opt/conda/lib/python3.8/site-packages/ipykernel/ipkernel.py:283: DeprecationWarning: `should_run_async` will not call `transform_cell` automatically in the future. Please pass the result to `transformed_cell` argument and any exception that happen during thetransform in `preprocessing_exc_tuple` in IPython 7.17 and above.\n",
      "  and should_run_async(code)\n"
     ]
    }
   ],
   "source": [
    "merged = q3_without_time.merge(loan_times, on=\"loan_id\", how=\"left\")"
   ]
  },
  {
   "cell_type": "code",
   "execution_count": 11,
   "id": "89eee59f-d224-46d9-b0d7-3cb408d70605",
   "metadata": {},
   "outputs": [
    {
     "name": "stderr",
     "output_type": "stream",
     "text": [
      "/opt/conda/lib/python3.8/site-packages/ipykernel/ipkernel.py:283: DeprecationWarning: `should_run_async` will not call `transform_cell` automatically in the future. Please pass the result to `transformed_cell` argument and any exception that happen during thetransform in `preprocessing_exc_tuple` in IPython 7.17 and above.\n",
      "  and should_run_async(code)\n"
     ]
    }
   ],
   "source": [
    "loan_features = store.get_feature_service('loan_features')"
   ]
  },
  {
   "cell_type": "code",
   "execution_count": 12,
   "id": "ba51ff01-a841-454b-8094-73dac3671bd6",
   "metadata": {},
   "outputs": [],
   "source": [
    "from feast.infra.offline_stores.contrib.postgres_offline_store.postgres_source import (\n",
    "    PostgreSQLSource, SavedDatasetPostgreSQLStorage\n",
    ")\n",
    "\n",
    "training_features = store.get_historical_features(\n",
    "    entity_df=merged, \n",
    "    features=loan_features\n",
    ")"
   ]
  },
  {
   "cell_type": "code",
   "execution_count": 15,
   "id": "154bb952-ffcb-4c57-9a3b-81ca9f1f39c6",
   "metadata": {},
   "outputs": [
    {
     "name": "stderr",
     "output_type": "stream",
     "text": [
      "/opt/conda/lib/python3.8/site-packages/feast/feature_store.py:1182: RuntimeWarning: Saving dataset is an experimental feature. This API is unstable and it could and most probably will be changed in the future. We do not guarantee that future changes will maintain backward compatibility.\n",
      "  warnings.warn(\n"
     ]
    }
   ],
   "source": [
    "dataset = store.create_saved_dataset(\n",
    "    from_=training_features,\n",
    "    name=dataset_name,\n",
    "    storage=SavedDatasetPostgreSQLStorage(table_ref=dataset_name)\n",
    ")"
   ]
  },
  {
   "cell_type": "code",
   "execution_count": 14,
   "id": "31519c25-4977-4e49-802d-59e66e93ad5b",
   "metadata": {},
   "outputs": [
    {
     "name": "stdout",
     "output_type": "stream",
     "text": [
      "droped\n"
     ]
    },
    {
     "name": "stderr",
     "output_type": "stream",
     "text": [
      "/opt/conda/lib/python3.8/site-packages/ipykernel/ipkernel.py:283: DeprecationWarning: `should_run_async` will not call `transform_cell` automatically in the future. Please pass the result to `transformed_cell` argument and any exception that happen during thetransform in `preprocessing_exc_tuple` in IPython 7.17 and above.\n",
      "  and should_run_async(code)\n"
     ]
    }
   ],
   "source": [
    "import psycopg2\n",
    "from psycopg2.extensions import ISOLATION_LEVEL_AUTOCOMMIT\n",
    "\n",
    "conn = None\n",
    "cur = None\n",
    "\n",
    "try:\n",
    "    conn = psycopg2.connect(\"host=cassandra-postgresql.feast-db port=5432 dbname=FEAST_OFFLINE_STORE user=postgres password=postgres\")\n",
    "    conn.set_isolation_level(ISOLATION_LEVEL_AUTOCOMMIT);\n",
    "    cur = conn.cursor()\n",
    "    cur.execute('DROP TABLE IF EXISTS loan_approval_baseline;')\n",
    "    print('droped')\n",
    "except:\n",
    "    if cur is not None:\n",
    "        cur.close()\n",
    "    if conn is not None:\n",
    "        conn.close()"
   ]
  },
  {
   "cell_type": "code",
   "execution_count": null,
   "id": "a58a215d-5738-4627-bf03-288c50eb25cc",
   "metadata": {},
   "outputs": [],
   "source": []
  },
  {
   "cell_type": "code",
   "execution_count": null,
   "id": "d67b1c2a-b47c-40e1-af74-895c35eae35c",
   "metadata": {},
   "outputs": [],
   "source": [
    "# "
   ]
  }
 ],
 "metadata": {
  "kernelspec": {
   "display_name": "Python 3",
   "language": "python",
   "name": "python3"
  },
  "language_info": {
   "codemirror_mode": {
    "name": "ipython",
    "version": 3
   },
   "file_extension": ".py",
   "mimetype": "text/x-python",
   "name": "python",
   "nbconvert_exporter": "python",
   "pygments_lexer": "ipython3",
   "version": "3.8.10"
  }
 },
 "nbformat": 4,
 "nbformat_minor": 5
}
