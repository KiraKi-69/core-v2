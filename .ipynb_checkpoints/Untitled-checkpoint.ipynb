{
 "cells": [
  {
   "cell_type": "code",
   "execution_count": 26,
   "id": "f532bd60-d1b9-48b1-95e1-91ae10f4d405",
   "metadata": {
    "tags": []
   },
   "outputs": [
    {
     "name": "stdout",
     "output_type": "stream",
     "text": [
      "<Response [400]>\n"
     ]
    },
    {
     "ename": "JSONDecodeError",
     "evalue": "Expecting value: line 1 column 1 (char 0)",
     "output_type": "error",
     "traceback": [
      "\u001b[0;31m---------------------------------------------------------------------------\u001b[0m",
      "\u001b[0;31mJSONDecodeError\u001b[0m                           Traceback (most recent call last)",
      "\u001b[0;32m<ipython-input-26-79a81b1105b9>\u001b[0m in \u001b[0;36m<module>\u001b[0;34m\u001b[0m\n\u001b[1;32m     74\u001b[0m \u001b[0;34m\u001b[0m\u001b[0m\n\u001b[1;32m     75\u001b[0m \u001b[0mprint\u001b[0m\u001b[0;34m(\u001b[0m\u001b[0mresponse\u001b[0m\u001b[0;34m)\u001b[0m\u001b[0;34m\u001b[0m\u001b[0;34m\u001b[0m\u001b[0m\n\u001b[0;32m---> 76\u001b[0;31m \u001b[0mprint\u001b[0m\u001b[0;34m(\u001b[0m\u001b[0mjson\u001b[0m\u001b[0;34m.\u001b[0m\u001b[0mdumps\u001b[0m\u001b[0;34m(\u001b[0m\u001b[0mresponse\u001b[0m\u001b[0;34m.\u001b[0m\u001b[0mjson\u001b[0m\u001b[0;34m(\u001b[0m\u001b[0;34m)\u001b[0m\u001b[0;34m,\u001b[0m \u001b[0mindent\u001b[0m\u001b[0;34m=\u001b[0m\u001b[0;36m2\u001b[0m\u001b[0;34m)\u001b[0m\u001b[0;34m)\u001b[0m\u001b[0;34m\u001b[0m\u001b[0;34m\u001b[0m\u001b[0m\n\u001b[0m\u001b[1;32m     77\u001b[0m \u001b[0;32massert\u001b[0m \u001b[0mresponse\u001b[0m\u001b[0;34m.\u001b[0m\u001b[0mok\u001b[0m\u001b[0;34m\u001b[0m\u001b[0;34m\u001b[0m\u001b[0m\n",
      "\u001b[0;32m/opt/conda/lib/python3.8/site-packages/requests/models.py\u001b[0m in \u001b[0;36mjson\u001b[0;34m(self, **kwargs)\u001b[0m\n\u001b[1;32m    898\u001b[0m                     \u001b[0;31m# used.\u001b[0m\u001b[0;34m\u001b[0m\u001b[0;34m\u001b[0m\u001b[0;34m\u001b[0m\u001b[0m\n\u001b[1;32m    899\u001b[0m                     \u001b[0;32mpass\u001b[0m\u001b[0;34m\u001b[0m\u001b[0;34m\u001b[0m\u001b[0m\n\u001b[0;32m--> 900\u001b[0;31m         \u001b[0;32mreturn\u001b[0m \u001b[0mcomplexjson\u001b[0m\u001b[0;34m.\u001b[0m\u001b[0mloads\u001b[0m\u001b[0;34m(\u001b[0m\u001b[0mself\u001b[0m\u001b[0;34m.\u001b[0m\u001b[0mtext\u001b[0m\u001b[0;34m,\u001b[0m \u001b[0;34m**\u001b[0m\u001b[0mkwargs\u001b[0m\u001b[0;34m)\u001b[0m\u001b[0;34m\u001b[0m\u001b[0;34m\u001b[0m\u001b[0m\n\u001b[0m\u001b[1;32m    901\u001b[0m \u001b[0;34m\u001b[0m\u001b[0m\n\u001b[1;32m    902\u001b[0m     \u001b[0;34m@\u001b[0m\u001b[0mproperty\u001b[0m\u001b[0;34m\u001b[0m\u001b[0;34m\u001b[0m\u001b[0m\n",
      "\u001b[0;32m/opt/conda/lib/python3.8/json/__init__.py\u001b[0m in \u001b[0;36mloads\u001b[0;34m(s, cls, object_hook, parse_float, parse_int, parse_constant, object_pairs_hook, **kw)\u001b[0m\n\u001b[1;32m    355\u001b[0m             \u001b[0mparse_int\u001b[0m \u001b[0;32mis\u001b[0m \u001b[0;32mNone\u001b[0m \u001b[0;32mand\u001b[0m \u001b[0mparse_float\u001b[0m \u001b[0;32mis\u001b[0m \u001b[0;32mNone\u001b[0m \u001b[0;32mand\u001b[0m\u001b[0;34m\u001b[0m\u001b[0;34m\u001b[0m\u001b[0m\n\u001b[1;32m    356\u001b[0m             parse_constant is None and object_pairs_hook is None and not kw):\n\u001b[0;32m--> 357\u001b[0;31m         \u001b[0;32mreturn\u001b[0m \u001b[0m_default_decoder\u001b[0m\u001b[0;34m.\u001b[0m\u001b[0mdecode\u001b[0m\u001b[0;34m(\u001b[0m\u001b[0ms\u001b[0m\u001b[0;34m)\u001b[0m\u001b[0;34m\u001b[0m\u001b[0;34m\u001b[0m\u001b[0m\n\u001b[0m\u001b[1;32m    358\u001b[0m     \u001b[0;32mif\u001b[0m \u001b[0mcls\u001b[0m \u001b[0;32mis\u001b[0m \u001b[0;32mNone\u001b[0m\u001b[0;34m:\u001b[0m\u001b[0;34m\u001b[0m\u001b[0;34m\u001b[0m\u001b[0m\n\u001b[1;32m    359\u001b[0m         \u001b[0mcls\u001b[0m \u001b[0;34m=\u001b[0m \u001b[0mJSONDecoder\u001b[0m\u001b[0;34m\u001b[0m\u001b[0;34m\u001b[0m\u001b[0m\n",
      "\u001b[0;32m/opt/conda/lib/python3.8/json/decoder.py\u001b[0m in \u001b[0;36mdecode\u001b[0;34m(self, s, _w)\u001b[0m\n\u001b[1;32m    335\u001b[0m \u001b[0;34m\u001b[0m\u001b[0m\n\u001b[1;32m    336\u001b[0m         \"\"\"\n\u001b[0;32m--> 337\u001b[0;31m         \u001b[0mobj\u001b[0m\u001b[0;34m,\u001b[0m \u001b[0mend\u001b[0m \u001b[0;34m=\u001b[0m \u001b[0mself\u001b[0m\u001b[0;34m.\u001b[0m\u001b[0mraw_decode\u001b[0m\u001b[0;34m(\u001b[0m\u001b[0ms\u001b[0m\u001b[0;34m,\u001b[0m \u001b[0midx\u001b[0m\u001b[0;34m=\u001b[0m\u001b[0m_w\u001b[0m\u001b[0;34m(\u001b[0m\u001b[0ms\u001b[0m\u001b[0;34m,\u001b[0m \u001b[0;36m0\u001b[0m\u001b[0;34m)\u001b[0m\u001b[0;34m.\u001b[0m\u001b[0mend\u001b[0m\u001b[0;34m(\u001b[0m\u001b[0;34m)\u001b[0m\u001b[0;34m)\u001b[0m\u001b[0;34m\u001b[0m\u001b[0;34m\u001b[0m\u001b[0m\n\u001b[0m\u001b[1;32m    338\u001b[0m         \u001b[0mend\u001b[0m \u001b[0;34m=\u001b[0m \u001b[0m_w\u001b[0m\u001b[0;34m(\u001b[0m\u001b[0ms\u001b[0m\u001b[0;34m,\u001b[0m \u001b[0mend\u001b[0m\u001b[0;34m)\u001b[0m\u001b[0;34m.\u001b[0m\u001b[0mend\u001b[0m\u001b[0;34m(\u001b[0m\u001b[0;34m)\u001b[0m\u001b[0;34m\u001b[0m\u001b[0;34m\u001b[0m\u001b[0m\n\u001b[1;32m    339\u001b[0m         \u001b[0;32mif\u001b[0m \u001b[0mend\u001b[0m \u001b[0;34m!=\u001b[0m \u001b[0mlen\u001b[0m\u001b[0;34m(\u001b[0m\u001b[0ms\u001b[0m\u001b[0;34m)\u001b[0m\u001b[0;34m:\u001b[0m\u001b[0;34m\u001b[0m\u001b[0;34m\u001b[0m\u001b[0m\n",
      "\u001b[0;32m/opt/conda/lib/python3.8/json/decoder.py\u001b[0m in \u001b[0;36mraw_decode\u001b[0;34m(self, s, idx)\u001b[0m\n\u001b[1;32m    353\u001b[0m             \u001b[0mobj\u001b[0m\u001b[0;34m,\u001b[0m \u001b[0mend\u001b[0m \u001b[0;34m=\u001b[0m \u001b[0mself\u001b[0m\u001b[0;34m.\u001b[0m\u001b[0mscan_once\u001b[0m\u001b[0;34m(\u001b[0m\u001b[0ms\u001b[0m\u001b[0;34m,\u001b[0m \u001b[0midx\u001b[0m\u001b[0;34m)\u001b[0m\u001b[0;34m\u001b[0m\u001b[0;34m\u001b[0m\u001b[0m\n\u001b[1;32m    354\u001b[0m         \u001b[0;32mexcept\u001b[0m \u001b[0mStopIteration\u001b[0m \u001b[0;32mas\u001b[0m \u001b[0merr\u001b[0m\u001b[0;34m:\u001b[0m\u001b[0;34m\u001b[0m\u001b[0;34m\u001b[0m\u001b[0m\n\u001b[0;32m--> 355\u001b[0;31m             \u001b[0;32mraise\u001b[0m \u001b[0mJSONDecodeError\u001b[0m\u001b[0;34m(\u001b[0m\u001b[0;34m\"Expecting value\"\u001b[0m\u001b[0;34m,\u001b[0m \u001b[0ms\u001b[0m\u001b[0;34m,\u001b[0m \u001b[0merr\u001b[0m\u001b[0;34m.\u001b[0m\u001b[0mvalue\u001b[0m\u001b[0;34m)\u001b[0m \u001b[0;32mfrom\u001b[0m \u001b[0;32mNone\u001b[0m\u001b[0;34m\u001b[0m\u001b[0;34m\u001b[0m\u001b[0m\n\u001b[0m\u001b[1;32m    356\u001b[0m         \u001b[0;32mreturn\u001b[0m \u001b[0mobj\u001b[0m\u001b[0;34m,\u001b[0m \u001b[0mend\u001b[0m\u001b[0;34m\u001b[0m\u001b[0;34m\u001b[0m\u001b[0m\n",
      "\u001b[0;31mJSONDecodeError\u001b[0m: Expecting value: line 1 column 1 (char 0)"
     ]
    }
   ],
   "source": [
    "import json\n",
    "\n",
    "import requests\n",
    "\n",
    "inference_request = {\n",
    "  \"parameters\": {\n",
    "    \"content_type\": \"pd\"\n",
    "  },\n",
    "  \"inputs\": [\n",
    "    {\n",
    "      \"name\": \"zipcode\",\n",
    "      \"datatype\": \"INT32\",\n",
    "      \"shape\": [1],\n",
    "      \"data\": [35544]\n",
    "    },\n",
    "    {\n",
    "      \"name\": \"dob_ssn\",\n",
    "      \"datatype\": \"BYTES\",\n",
    "      \"parameters\": {\n",
    "        \"content_type\": \"str\"\n",
    "      },\n",
    "      \"shape\": [1],\n",
    "      \"data\": [\"19460120_6984\"]\n",
    "    },\n",
    "    {\n",
    "      \"name\": \"person_age\",\n",
    "      \"datatype\": \"INT32\",\n",
    "      \"shape\": [1],\n",
    "      \"data\": [53]\n",
    "    },\n",
    "    {\n",
    "      \"name\": \"person_home_ownership\",\n",
    "      \"datatype\": \"BYTES\",\n",
    "      \"parameters\": {\n",
    "        \"content_type\": \"str\"\n",
    "      },\n",
    "      \"shape\": [1],\n",
    "      \"data\": [\"MORTGAGE\"]\n",
    "    },\n",
    "    {\n",
    "      \"name\": \"person_emp_length\",\n",
    "      \"datatype\": \"FP32\",\n",
    "      \"shape\": [1],\n",
    "      \"data\": [4.0]\n",
    "    },\n",
    "    {\n",
    "      \"name\": \"loan_intent\",\n",
    "      \"datatype\": \"BYTES\",\n",
    "      \"parameters\": {\n",
    "        \"content_type\": \"str\"\n",
    "      },\n",
    "      \"shape\": [1],\n",
    "      \"data\": [\"PERSONAL\"]\n",
    "    },\n",
    "    {\n",
    "      \"name\": \"loan_amnt\",\n",
    "      \"datatype\": \"INT32\",\n",
    "      \"shape\": [1],\n",
    "      \"data\": [10000]\n",
    "    },\n",
    "    {\n",
    "      \"name\": \"loan_int_rate\",\n",
    "      \"datatype\": \"FP32\",\n",
    "      \"shape\": [1],\n",
    "      \"data\": [8.94]\n",
    "    },\n",
    "  ]\n",
    "}\n",
    "\n",
    "# endpoint = \"http://seldon-mesh.seldon-mesh.svc.cluster.local/v2/models/prod-m/infer\"\n",
    "# endpoint = \"http://seldon-mesh.seldon-mesh.svc.cluster.local/v2/models/preproc/infer\"\n",
    "endpoint = \"http://seldon-mesh.seldon-mesh.svc.cluster.local/v2/pipelines/chain-new/infer\"\n",
    "response = requests.post(endpoint, json=inference_request)\n",
    "\n",
    "print(response)\n",
    "print(json.dumps(response.json(), indent=2))\n",
    "assert response.ok"
   ]
  },
  {
   "cell_type": "code",
   "execution_count": null,
   "id": "0c58c1e6-648a-4886-9106-c61df37a4877",
   "metadata": {},
   "outputs": [],
   "source": [
    "import os\n",
    "\n",
    "print(os.environ)"
   ]
  },
  {
   "cell_type": "code",
   "execution_count": null,
   "id": "ed3c9a8c-ba2a-4057-84e9-1912bb029d66",
   "metadata": {
    "tags": []
   },
   "outputs": [],
   "source": [
    "%pip install mlflow==1.30\n",
    "%pip install boto3\n",
    "%pip install cloudpickle==2.2.0\n",
    "%pip install mlserver\n",
    "%pip install pydantic==1.10.2\n",
    "%pip install argparse==1.1\n",
    "%pip install scikit-learn==1.1.3\n",
    "%pip install typing-extensions==4.4.0"
   ]
  },
  {
   "cell_type": "code",
   "execution_count": null,
   "id": "2de0d125-435b-49f4-8885-17fc51725aca",
   "metadata": {},
   "outputs": [],
   "source": [
    "!pip freeze"
   ]
  },
  {
   "cell_type": "code",
   "execution_count": null,
   "id": "daf0ba2a-f2eb-4d77-b1d6-ce4405f71bf4",
   "metadata": {},
   "outputs": [],
   "source": [
    "import pandas as pd\n",
    "from mlserver.types import InferenceRequest, InferenceResponse, ResponseOutput\n",
    "\n",
    "from mlserver.codecs import PandasCodec\n",
    "\n",
    "dataframe = pd.DataFrame({'First Name': [\"Joanne\", \"Michael\"], 'Age': [34, 22]})\n",
    "\n",
    "\n",
    "inference_request = PandasCodec.encode_response(model_name='loan', payload=dataframe)\n",
    "# print([dict(x) for x in inference_request.inputs])\n",
    "print(inference_request)\n",
    "print(type(inference_request))"
   ]
  },
  {
   "cell_type": "code",
   "execution_count": null,
   "id": "c434ac65-97c8-4f8f-bcbc-f6992e9f6200",
   "metadata": {},
   "outputs": [],
   "source": [
    "inference_request.items()"
   ]
  },
  {
   "cell_type": "code",
   "execution_count": null,
   "id": "66defb8a-6f84-49ff-9dd1-f9ef90d39bdf",
   "metadata": {},
   "outputs": [],
   "source": [
    "PandasCodec.decode_request(inference_request)"
   ]
  },
  {
   "cell_type": "code",
   "execution_count": null,
   "id": "b2b9d280-5708-4e5f-adb7-72a8966004e9",
   "metadata": {},
   "outputs": [],
   "source": [
    "import mlflow"
   ]
  },
  {
   "cell_type": "code",
   "execution_count": null,
   "id": "badaeb6e-eeba-42fd-a235-202ee3b0bc0c",
   "metadata": {},
   "outputs": [],
   "source": [
    "import logging\n",
    "import os\n",
    "import requests\n",
    "import json\n",
    "\n",
    "\n",
    "class FeastRestEnricher(mlflow.pyfunc.PythonModel):\n",
    "    \n",
    "    def __init__(self):\n",
    "        #FixME change to os.environ or param\n",
    "        self.url = \"http://feast-feature-server.feast-db:80/\"\n",
    "        \n",
    "        \n",
    "    def predict(self, context, X): ## X, features_names\n",
    "        from mlserver.codecs import PandasCodec\n",
    "        from mlserver.types import InferenceRequest, InferenceResponse, ResponseOutput\n",
    "        \n",
    "        print(context)\n",
    "        print(X)\n",
    "        \n",
    "        print(\"Enriching features: %s and values %s\", X.columns, X.values)\n",
    "        \n",
    "        features_names = list(X.columns)\n",
    "        \n",
    "        zipcode = X['zipcode'].values[0]\n",
    "        dob_ssn = X['dob_ssn'].values[0]\n",
    "\n",
    "        print(\"Get data: zipcode %s and dob_ssn %s\", zipcode, dob_ssn)\n",
    "        \n",
    "        req = {\n",
    "            \"feature_service\": \"loan_features\",\n",
    "            \"entities\": {\n",
    "                \"zipcode\": [int(zipcode)],\n",
    "                \"dob_ssn\": [dob_ssn]\n",
    "            }\n",
    "        }\n",
    "\n",
    "        print(\"Send request to server: %s\", json.dumps(req))\n",
    "        \n",
    "        response = requests.post(\n",
    "            f\"{self.url}get-online-features\",\n",
    "            data=json.dumps(req)\n",
    "        )\n",
    "        \n",
    "        print(response)\n",
    "        \n",
    "        feature_vector = {}\n",
    "        \n",
    "        if response.status_code == 200:\n",
    "            response_dict = response.json()\n",
    "            print(\"response dict: %s\", response_dict)\n",
    "            for idx, column in enumerate(response_dict['metadata']['feature_names']):\n",
    "                feature_vector[column] = response_dict['results'][idx]['values']\n",
    "        \n",
    "            for name in features_names:\n",
    "                if feature_vector.get(name) is None:\n",
    "                    print(X[name].values[0])\n",
    "                    if name in [\"loan_amnt\", \"person_age\"]:\n",
    "                        feature_vector[name] = [int(X[name].values)]\n",
    "                    elif name in [\"person_emp_length\", \"loan_int_rate\"]:\n",
    "                        feature_vector[name] = [float(X[name].values[0])]\n",
    "                    else:\n",
    "                        feature_vector[name] = [X[name].values[0]]\n",
    "        \n",
    "        print(\"result vector: %s\", feature_vector)\n",
    "        \n",
    "        f_df = pd.DataFrame(feature_vector)\n",
    "        \n",
    "#         p_df = PandasCodec.encode_request(f_df)\n",
    "        \n",
    "#         outputs = PandasCodec.encode_response(model_name='loan', payload=f_df)\n",
    "        \n",
    "        return f_df"
   ]
  },
  {
   "cell_type": "code",
   "execution_count": null,
   "id": "c8195f3b-78c3-4f83-901b-9ff43ce15c4c",
   "metadata": {},
   "outputs": [],
   "source": [
    "test_model = FeastRestEnricher()"
   ]
  },
  {
   "cell_type": "code",
   "execution_count": null,
   "id": "f1957fc8-7222-4571-a850-946a6d6e6f39",
   "metadata": {},
   "outputs": [],
   "source": [
    "\n",
    "import pandas as pd\n",
    "\n",
    "t_col = [\n",
    "\t\t\t\"zipcode\",\n",
    "\t\t\t\"dob_ssn\",\n",
    "\t\t\t\"person_age\",\n",
    "\t\t\t\"person_home_ownership\",\n",
    "\t\t\t\"person_emp_length\",\n",
    "\t\t\t\"loan_intent\",\n",
    "\t\t\t\"loan_amnt\",\n",
    "\t\t\t\"loan_int_rate\"\n",
    "\t\t]\n",
    "t_data = [[35544, \"19460120_6984\", 53, \"MORTGAGE\", 4.0, \"PERSONAL\", 10000, 8.94],]\n",
    "\n",
    "t_df = pd.DataFrame(t_data, columns=t_col)\n"
   ]
  },
  {
   "cell_type": "code",
   "execution_count": null,
   "id": "cc183dcf-06e7-44c0-8483-7c34c1bb5af5",
   "metadata": {},
   "outputs": [],
   "source": [
    "test_model.predict(t_df)"
   ]
  },
  {
   "cell_type": "code",
   "execution_count": null,
   "id": "cc1e0183-8b7a-4d30-98be-8dc9d88941a3",
   "metadata": {},
   "outputs": [],
   "source": []
  },
  {
   "cell_type": "code",
   "execution_count": null,
   "id": "e5a672b3-d9a3-4d13-8440-6ca7d512fcf8",
   "metadata": {},
   "outputs": [],
   "source": []
  },
  {
   "cell_type": "code",
   "execution_count": null,
   "id": "d444c801-dc5e-4bf3-b135-96ebda8a4b05",
   "metadata": {},
   "outputs": [],
   "source": [
    "import mlflow\n",
    "\n",
    "mlflow.set_experiment(\"prepro\")\n",
    "\n",
    "with mlflow.start_run() as current_run:\n",
    "    model_info = mlflow.pyfunc.log_model(\n",
    "        artifact_path=\"model\", \n",
    "        python_model=FeastRestEnricher()\n",
    "        )"
   ]
  },
  {
   "cell_type": "code",
   "execution_count": null,
   "id": "47112a64-450d-4fcb-84ad-ac7edf4e9cd3",
   "metadata": {},
   "outputs": [],
   "source": []
  },
  {
   "cell_type": "code",
   "execution_count": 27,
   "id": "3d13e68e-5cc9-4d3e-ae5a-8eeb6e5f9972",
   "metadata": {},
   "outputs": [],
   "source": [
    "import mlflow\n",
    "model_name = \"model.bin\"\n",
    "encoder_name = \"encoder.bin\"\n",
    "\n",
    "artifacts = {\n",
    "    \"model\": model_name,\n",
    "    \"encoder\": encoder_name,\n",
    "}\n",
    "\n",
    "class ModelWrapper(mlflow.pyfunc.PythonModel):\n",
    "\n",
    "    def load_context(self, context):\n",
    "        import joblib\n",
    "        self.encoder = joblib.load(context.artifacts[\"encoder\"])            \n",
    "        self.model = joblib.load(context.artifacts[\"model\"]) \n",
    "        self.categorical_features = [\n",
    "            \"person_home_ownership\",\n",
    "            \"loan_intent\",\n",
    "            \"state\",\n",
    "        ]\n",
    "\n",
    "    def predict(self, context, inp):\n",
    "        \n",
    "        features_df = None\n",
    "\n",
    "        import pandas as pd\n",
    "        \n",
    "        from mlserver.codecs import PandasCodec\n",
    "        \n",
    "        print(inp)\n",
    "        \n",
    "        features = inp.dict()['inputs']\n",
    "        \n",
    "        print(features)\n",
    "        \n",
    "        features_dict = {}\n",
    "        \n",
    "        for req in features:\n",
    "            features_dict[req['name']] = eval(str(req['data']).replace(\"b'\",\"'\"))\n",
    "            \n",
    "        \n",
    "        print(features_dict)\n",
    "        \n",
    "        features_df = pd.DataFrame.from_dict(features_dict)\n",
    "\n",
    "#         if isinstance(inp, dict):\n",
    "#             features_df = pd.DataFrame.from_dict(inp)\n",
    "#         elif isinstance(inp, pd.DataFrame):\n",
    "#             features_df = inp\n",
    "\n",
    "        print(\"Enriching features DataFrame: %s\", features_df)\n",
    "\n",
    "        # Apply ordinal encoding to categorical features\n",
    "        features_df[self.categorical_features] = self.encoder.transform(\n",
    "            features_df[self.categorical_features]\n",
    "        )\n",
    "\n",
    "        print(\"features DataFrame after encoging: %s\", features_df)\n",
    "\n",
    "        # Sort columns\n",
    "        features_df = features_df.reindex(sorted(features_df.columns), axis=1)\n",
    "\n",
    "        # Drop unnecessary columns\n",
    "        df_for_predict = features_df.copy()\n",
    "        if \"city\" in df_for_predict.columns:\n",
    "            df_for_predict = df_for_predict[df_for_predict.columns.drop(\"city\").drop(\"location_type\")]\n",
    "\n",
    "        if \"zipcode\" in df_for_predict.columns:\n",
    "            df_for_predict = df_for_predict[df_for_predict.columns.drop(\"zipcode\").drop(\"dob_ssn\")]\n",
    "\n",
    "        print(\"features DataFrame before predict: %s\", df_for_predict)\n",
    "        \n",
    "        result = self.model.predict(df_for_predict)\n",
    "\n",
    "        return result"
   ]
  },
  {
   "cell_type": "code",
   "execution_count": 28,
   "id": "29356b87-448b-4af1-9cf6-d673c0cf0edb",
   "metadata": {},
   "outputs": [],
   "source": [
    "import mlflow\n",
    "\n",
    "mlflow.set_experiment(\"mod\")\n",
    "\n",
    "with mlflow.start_run() as current_run:\n",
    "    model_info = mlflow.pyfunc.log_model(\n",
    "        artifact_path=\"model\", \n",
    "        python_model=ModelWrapper(),\n",
    "        artifacts=artifacts,\n",
    "        )"
   ]
  },
  {
   "cell_type": "code",
   "execution_count": null,
   "id": "2bba338c-35e1-498b-961a-bca19fb74f8b",
   "metadata": {},
   "outputs": [],
   "source": []
  },
  {
   "cell_type": "code",
   "execution_count": null,
   "id": "2bfef9dc-8e6c-42f7-b75e-2cc0abd27be9",
   "metadata": {},
   "outputs": [],
   "source": [
    "import mlflow\n",
    "\n",
    "loaded_model = mlflow.pyfunc.load_model(\"model\")\n",
    "\n",
    "\n",
    "# s3://dognauts-drift/3/58b2a45acda747c4800ffb063c64a2f5/artifacts/model"
   ]
  },
  {
   "cell_type": "code",
   "execution_count": null,
   "id": "6886d9d8-b6ed-437f-ae51-f810f39fe2f1",
   "metadata": {},
   "outputs": [],
   "source": [
    "import pandas as pd\n",
    "\n",
    "t_col = [\n",
    "\t\t\t\"zipcode\",\n",
    "\t\t\t\"dob_ssn\",\n",
    "\t\t\t\"person_age\",\n",
    "\t\t\t\"person_home_ownership\",\n",
    "\t\t\t\"person_emp_length\",\n",
    "\t\t\t\"loan_intent\",\n",
    "\t\t\t\"loan_amnt\",\n",
    "\t\t\t\"loan_int_rate\"\n",
    "\t\t]\n",
    "t_data = [[35544, \"19460120_6984\", 53, \"MORTGAGE\", 4.0, \"PERSONAL\", 10000, 8.94],]\n",
    "\n",
    "df = pd.DataFrame(t_data, columns=t_col)\n"
   ]
  },
  {
   "cell_type": "code",
   "execution_count": null,
   "id": "e8d312ab-e04b-4d4d-924f-ea60bb6ee8f2",
   "metadata": {},
   "outputs": [],
   "source": [
    "aaa = loaded_model.predict(df)"
   ]
  },
  {
   "cell_type": "code",
   "execution_count": null,
   "id": "a88bdedd-329b-4ccf-a8a7-143dc5f21a86",
   "metadata": {},
   "outputs": [],
   "source": [
    "type(aaa) "
   ]
  },
  {
   "cell_type": "code",
   "execution_count": null,
   "id": "75a15895-149a-4bab-923d-0f7fbef1a3cb",
   "metadata": {},
   "outputs": [],
   "source": [
    "import inspect\n",
    "\n",
    "\n",
    "print(inspect.getsource(data.predict))"
   ]
  },
  {
   "cell_type": "code",
   "execution_count": null,
   "id": "c0896c06-a31e-457d-a9ab-ecad35d23f4c",
   "metadata": {},
   "outputs": [],
   "source": []
  }
 ],
 "metadata": {
  "kernelspec": {
   "display_name": "Python 3",
   "language": "python",
   "name": "python3"
  },
  "language_info": {
   "codemirror_mode": {
    "name": "ipython",
    "version": 3
   },
   "file_extension": ".py",
   "mimetype": "text/x-python",
   "name": "python",
   "nbconvert_exporter": "python",
   "pygments_lexer": "ipython3",
   "version": "3.8.10"
  }
 },
 "nbformat": 4,
 "nbformat_minor": 5
}
